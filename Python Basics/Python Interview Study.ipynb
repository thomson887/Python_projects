{
 "cells": [
  {
   "cell_type": "markdown",
   "id": "10363d72-cdd1-4ffd-b77b-1150abbdfb70",
   "metadata": {},
   "source": [
    "# Python Interview Study"
   ]
  },
  {
   "cell_type": "code",
   "execution_count": 13,
   "id": "d3f02b3f-47a5-42ab-ac09-81bca1bf9019",
   "metadata": {},
   "outputs": [
    {
     "name": "stdout",
     "output_type": "stream",
     "text": [
      "{1, 5, 6, 7, 9}\n"
     ]
    }
   ],
   "source": [
    "# Intersection of two lists\n",
    "x= [1,5,7,3,6,8,9]\n",
    "y= [1,4,6,9,4,2,5,7]\n",
    "\n",
    "#unique = set(x).intersection(set(y))\n",
    "#print(unique)\n",
    "print(set(x).intersection(set(y)))"
   ]
  },
  {
   "cell_type": "code",
   "execution_count": 14,
   "id": "d3084f5b-b672-4304-a592-be099a3a5936",
   "metadata": {},
   "outputs": [
    {
     "data": {
      "text/plain": [
       "list"
      ]
     },
     "execution_count": 14,
     "metadata": {},
     "output_type": "execute_result"
    }
   ],
   "source": [
    "type(x)"
   ]
  },
  {
   "cell_type": "code",
   "execution_count": null,
   "id": "ffc52d27-3cd8-41b3-bce3-636391601144",
   "metadata": {},
   "outputs": [],
   "source": [
    "# Find all the duplicates in the array\n",
    "a = [1,2,3,4,1,2,4]\n",
    "\n"
   ]
  },
  {
   "cell_type": "code",
   "execution_count": 21,
   "id": "5e649f7f-5855-453d-a69b-5b2c0bcdd37e",
   "metadata": {},
   "outputs": [
    {
     "name": "stdout",
     "output_type": "stream",
     "text": [
      "2\n",
      "5\n"
     ]
    }
   ],
   "source": [
    "a, b = 2,5\n",
    "print(a)\n",
    "print(b)"
   ]
  },
  {
   "cell_type": "code",
   "execution_count": 20,
   "id": "19c90984-dcd6-4e0b-9f9b-cc1cccb37dd8",
   "metadata": {},
   "outputs": [
    {
     "name": "stdout",
     "output_type": "stream",
     "text": [
      "25\n",
      "43\n"
     ]
    }
   ],
   "source": [
    "a : int = 25\n",
    "b : int = 43\n",
    "print(a)\n",
    "print(b)"
   ]
  },
  {
   "cell_type": "code",
   "execution_count": 22,
   "id": "9ac3e1f3-69d1-4445-9012-6491f777cbb5",
   "metadata": {},
   "outputs": [
    {
     "name": "stdout",
     "output_type": "stream",
     "text": [
      "Example:\n",
      "3\n",
      "The mission is done! Click 'Check Solution' to earn rewards!\n"
     ]
    }
   ],
   "source": [
    "# write your code here\n",
    "def func(arg):\n",
    "    return arg\n",
    "\n",
    "\n",
    "print(\"Example:\")\n",
    "print(func(3))\n",
    "\n",
    "# These \"asserts\" are used for self-checking\n",
    "assert func(3) == 3\n",
    "assert func(\"string\") == \"string\"\n",
    "assert func(True) == True\n",
    "\n",
    "print(\"The mission is done! Click 'Check Solution' to earn rewards!\")"
   ]
  },
  {
   "cell_type": "code",
   "execution_count": 32,
   "id": "33fd7ba3-8201-4830-a593-88370e656893",
   "metadata": {},
   "outputs": [
    {
     "name": "stdout",
     "output_type": "stream",
     "text": [
      "False\n",
      "True\n"
     ]
    }
   ],
   "source": [
    "def even_odd(num:int) -> bool:\n",
    "    if num % 2 == 0:\n",
    "        return True\n",
    "    else:\n",
    "        return False\n",
    "\n",
    "\n",
    "print(even_odd(23))\n",
    "\n",
    "def even_odd2(num: int) -> bool:\n",
    "    return not(num & 1)\n",
    "\n",
    "print(even_odd2(2))"
   ]
  },
  {
   "cell_type": "code",
   "execution_count": 35,
   "id": "52022195-4782-41ee-806e-d238053fede3",
   "metadata": {},
   "outputs": [
    {
     "name": "stdout",
     "output_type": "stream",
     "text": [
      "Example:\n",
      "positive\n",
      "The mission is done! Click 'Check Solution' to earn rewards!\n"
     ]
    }
   ],
   "source": [
    "# positive and negative and zero\n",
    "def determine_sign(num: int) -> str:\n",
    "    return 'positive' if num > 0 else 'negative' if num < 0 else 'zero'\n",
    "\n",
    "\n",
    "print(\"Example:\")\n",
    "print(determine_sign(11))\n",
    "\n",
    "# These \"asserts\" are used for self-checking\n",
    "assert determine_sign(5) == \"positive\"\n",
    "assert determine_sign(0) == \"zero\"\n",
    "assert determine_sign(-10) == \"negative\"\n",
    "assert determine_sign(1) == \"positive\"\n",
    "assert determine_sign(-1) == \"negative\"\n",
    "assert determine_sign(999) == \"positive\"\n",
    "assert determine_sign(-1000) == \"negative\"\n",
    "assert determine_sign(123456789) == \"positive\"\n",
    "assert determine_sign(-987654321) == \"negative\"\n",
    "assert determine_sign(2) == \"positive\"\n",
    "\n",
    "print(\"The mission is done! Click 'Check Solution' to earn rewards!\")"
   ]
  },
  {
   "cell_type": "code",
   "execution_count": 36,
   "id": "4a81b243-b362-4b70-a027-e7bfb4369167",
   "metadata": {},
   "outputs": [
    {
     "data": {
      "text/plain": [
       "1"
      ]
     },
     "execution_count": 36,
     "metadata": {},
     "output_type": "execute_result"
    }
   ],
   "source": [
    "# finding the quotient of a division\n",
    "\n",
    "def division (dividend: int, divisor: int) -> int:\n",
    "    return dividend % divisor\n",
    "\n",
    "division(10,3)"
   ]
  },
  {
   "cell_type": "code",
   "execution_count": 40,
   "id": "84aa84c8-26e8-4f5e-a330-f41859930439",
   "metadata": {},
   "outputs": [
    {
     "name": "stdout",
     "output_type": "stream",
     "text": [
      "nitsuJ si eman ym iH\n",
      "\n"
     ]
    }
   ],
   "source": [
    "# Reversing a string\n",
    "\n",
    "def string_reverse(val : str) -> str:\n",
    "    return val[::-1]\n",
    "\n",
    "print(string_reverse(\"Hi my name is Justin\"))\n",
    "print(string_reverse(\"\"))"
   ]
  },
  {
   "cell_type": "code",
   "execution_count": 43,
   "id": "1873bd33-b034-4bdf-a3ed-78b33f3dfbba",
   "metadata": {},
   "outputs": [
    {
     "name": "stdout",
     "output_type": "stream",
     "text": [
      "Example:\n",
      "Fizz\n",
      "The mission is done! Click 'Check Solution' to earn rewards!\n"
     ]
    }
   ],
   "source": [
    "#Fizzbuzz\n",
    "\n",
    "def checkio(num: int) -> str:\n",
    "    # your code here\n",
    "    if num % 3 == 0:\n",
    "        return \"Fizz\"\n",
    "    else:\n",
    "        return str(num)\n",
    "\n",
    "\n",
    "print(\"Example:\")\n",
    "print(checkio(3))\n",
    "\n",
    "# These \"asserts\" are used for self-checking\n",
    "assert checkio(15) == \"Fizz\"\n",
    "assert checkio(6) == \"Fizz\"\n",
    "assert checkio(10) == \"10\"\n",
    "assert checkio(7) == \"7\"\n",
    "\n",
    "print(\"The mission is done! Click 'Check Solution' to earn rewards!\")"
   ]
  },
  {
   "cell_type": "code",
   "execution_count": 44,
   "id": "9785044f-e089-4780-a5af-77f0bee9ee0e",
   "metadata": {},
   "outputs": [
    {
     "data": {
      "text/plain": [
       "'10'"
      ]
     },
     "execution_count": 44,
     "metadata": {},
     "output_type": "execute_result"
    }
   ],
   "source": [
    "def fizzbuzz(num:int) -> str:\n",
    "    return \"Fizz\" if num % 3 ==0 else str(num)\n",
    "\n",
    "fizzbuzz(10)"
   ]
  },
  {
   "cell_type": "code",
   "execution_count": 54,
   "id": "dba4a86f-1c11-4b98-afc0-aedecd4377dd",
   "metadata": {},
   "outputs": [
    {
     "data": {
      "text/plain": [
       "'my'"
      ]
     },
     "execution_count": 54,
     "metadata": {},
     "output_type": "execute_result"
    }
   ],
   "source": [
    "# First word in a string\n",
    "#method 1\n",
    "def first_word(val: str) -> str:\n",
    "    l = list(str.split(val, \" \"))\n",
    "    return l[0]\n",
    "\n",
    "first_word(\"my name is Justin\")"
   ]
  },
  {
   "cell_type": "code",
   "execution_count": 53,
   "id": "5406619c-b016-469a-84d4-20f8679688c7",
   "metadata": {},
   "outputs": [
    {
     "data": {
      "text/plain": [
       "'Hey'"
      ]
     },
     "execution_count": 53,
     "metadata": {},
     "output_type": "execute_result"
    }
   ],
   "source": [
    "#method 2\n",
    "text_split = lambda x: list(str.split(x, \" \"))[0]\n",
    "\n",
    "text_split(\"Hey my name is\")"
   ]
  },
  {
   "cell_type": "code",
   "execution_count": 55,
   "id": "319768ec-456a-46b4-9a36-0de6e5de72c1",
   "metadata": {},
   "outputs": [
    {
     "data": {
      "text/plain": [
       "'Buckeye'"
      ]
     },
     "execution_count": 55,
     "metadata": {},
     "output_type": "execute_result"
    }
   ],
   "source": [
    "#method 3\n",
    "first_word1 = lambda s: s.split()[0]\n",
    "\n",
    "first_word1(\"Buckeye Trail\")"
   ]
  },
  {
   "cell_type": "code",
   "execution_count": 57,
   "id": "aba83609-85be-48ed-b41b-de4b4cceed76",
   "metadata": {},
   "outputs": [
    {
     "data": {
      "text/plain": [
       "6"
      ]
     },
     "execution_count": 57,
     "metadata": {},
     "output_type": "execute_result"
    }
   ],
   "source": [
    "#number of digits in a number\n",
    "\n",
    "def digits(val:int) -> int:\n",
    "    s = str(val)\n",
    "    return len(s)\n",
    "\n",
    "digits(199929)"
   ]
  },
  {
   "cell_type": "code",
   "execution_count": 59,
   "id": "57e5eac0-5fda-496d-9428-890d992cb9ab",
   "metadata": {},
   "outputs": [
    {
     "data": {
      "text/plain": [
       "13"
      ]
     },
     "execution_count": 59,
     "metadata": {},
     "output_type": "execute_result"
    }
   ],
   "source": [
    "#method 2\n",
    "def digits1(val:int) -> int:\n",
    "    return len(str(val))\n",
    "\n",
    "digits1(4353248957345)"
   ]
  },
  {
   "cell_type": "code",
   "execution_count": 62,
   "id": "956cd771-4f3d-4d65-8090-6edf2a4675ab",
   "metadata": {},
   "outputs": [
    {
     "data": {
      "text/plain": [
       "'Fizz Buzz'"
      ]
     },
     "execution_count": 62,
     "metadata": {},
     "output_type": "execute_result"
    }
   ],
   "source": [
    "\"\"\"\"Fizz buzz\" is a word game we will use to teach the robots about division. Let's learn computers.\n",
    "\n",
    "You should write a function that will receive a positive integer and return:\n",
    "\"Fizz Buzz\" if the number is divisible by 3 and by 5;\n",
    "\"Fizz\" if the number is divisible by 3;\n",
    "\"Buzz\" if the number is divisible by 5;\n",
    "The number as a string for other cases.\"\"\"\n",
    "\n",
    "def func2 (val:int) -> str:\n",
    "    if (val % 3 == 0) & (val % 5 == 0):\n",
    "        return \"Fizz Buzz\"\n",
    "    elif val % 3 == 0:\n",
    "        return \"Fizz\"\n",
    "    elif val % 5 == 0:\n",
    "        return \"Buzz\"\n",
    "    else:\n",
    "        return str(val)\n",
    "\n",
    "func2 (15)"
   ]
  },
  {
   "cell_type": "code",
   "execution_count": 63,
   "id": "f9623a63-392b-45cd-abc5-1aad6dab1d9f",
   "metadata": {},
   "outputs": [
    {
     "data": {
      "text/plain": [
       "3"
      ]
     },
     "execution_count": 63,
     "metadata": {},
     "output_type": "execute_result"
    }
   ],
   "source": [
    "# Find number of vowels in a given string\n",
    "\n",
    "def vowel_count(text:str) -> int:\n",
    "    count = 0\n",
    "    for i in text.lower():\n",
    "        if i in ('a','e','i','o','u'):\n",
    "            count += 1\n",
    "        else:\n",
    "            pass\n",
    "    return count\n",
    "\n",
    "\n",
    "vowel_count(\"Sofiya\")"
   ]
  },
  {
   "cell_type": "code",
   "execution_count": 65,
   "id": "17e6e8a8-91cd-45eb-8d7e-22aeb93ac40b",
   "metadata": {},
   "outputs": [
    {
     "data": {
      "text/plain": [
       "2"
      ]
     },
     "execution_count": 65,
     "metadata": {},
     "output_type": "execute_result"
    }
   ],
   "source": [
    "# method 2\n",
    "\n",
    "def vcount(text: str) -> int:\n",
    "    return sum(text.lower().count(i) for i in 'aeiou')\n",
    "\n",
    "vcount(\"Justin\")"
   ]
  },
  {
   "cell_type": "code",
   "execution_count": 73,
   "id": "3479bc54-8e7e-4907-a2d8-1c2f5445ce52",
   "metadata": {},
   "outputs": [
    {
     "name": "stdout",
     "output_type": "stream",
     "text": [
      "Example:\n",
      "hello\n",
      "The mission is done! Click 'Check Solution' to earn rewards!\n"
     ]
    }
   ],
   "source": [
    "# Longest word in a sentence\n",
    "\n",
    "def longest_word(sentence: str) -> str:\n",
    "    # your code here\n",
    "    words = list(str.split(sentence))\n",
    "    if not words:\n",
    "        return ''\n",
    "    longest = \" \"\n",
    "    for word in words:\n",
    "        if len(word) > len(longest):\n",
    "            longest = word\n",
    "    return longest\n",
    "\n",
    "\n",
    "print(\"Example:\")\n",
    "print(longest_word(\"hello world\"))\n",
    "\n",
    "# These \"asserts\" are used for self-checking\n",
    "assert longest_word(\"hello world\") == \"hello\"\n",
    "assert longest_word(\"openai gpt-4\") == \"openai\"\n",
    "assert longest_word(\"this is a sentence\") == \"sentence\"\n",
    "assert longest_word(\"the quick brown fox\") == \"quick\"\n",
    "assert longest_word(\"jumped over the lazy dog\") == \"jumped\"\n",
    "assert longest_word(\"typescript is great\") == \"typescript\"\n",
    "assert longest_word(\"the answer is 42\") == \"answer\"\n",
    "assert longest_word(\"to be or not to be\") == \"not\"\n",
    "assert longest_word(\"that is the question\") == \"question\"\n",
    "assert longest_word(\"\") == \"\"\n",
    "assert longest_word(\" \") == \"\"\n",
    "\n",
    "print(\"The mission is done! Click 'Check Solution' to earn rewards!\")"
   ]
  },
  {
   "cell_type": "code",
   "execution_count": 79,
   "id": "97d8ddf0-fafb-43f5-bb8c-ac55d2461fe2",
   "metadata": {},
   "outputs": [
    {
     "name": "stdout",
     "output_type": "stream",
     "text": [
      "Example:\n",
      "Hello World\n",
      "The mission is done! Click 'Check Solution' to earn rewards!\n"
     ]
    }
   ],
   "source": [
    "# Capitalize the first letter in every word in the string\n",
    "\n",
    "def to_title_case(sentence: str) -> str:\n",
    "    # your code here\n",
    "    words = sentence.split()\n",
    "    if not words:\n",
    "        return ''\n",
    "\n",
    "    new_sentence = ' '.join(word.capitalize() for word in words)\n",
    "\n",
    "    return new_sentence\n",
    "\n",
    "\n",
    "print(\"Example:\")\n",
    "print(to_title_case(\"hello world\"))\n",
    "\n",
    "# These \"asserts\" are used for self-checking\n",
    "assert to_title_case(\"hello world\") == \"Hello World\"\n",
    "assert to_title_case(\"openai gpt-4\") == \"Openai Gpt-4\"\n",
    "assert to_title_case(\"this is a title\") == \"This Is A Title\"\n",
    "assert to_title_case(\"THE QUICK BROWN FOX\") == \"The Quick Brown Fox\"\n",
    "assert to_title_case(\"JUMPs ovER a LAZy dog\") == \"Jumps Over A Lazy Dog\"\n",
    "assert to_title_case(\"typescript is great\") == \"Typescript Is Great\"\n",
    "assert to_title_case(\"the answer is 42\") == \"The Answer Is 42\"\n",
    "assert to_title_case(\"to be or not to be\") == \"To Be Or Not To Be\"\n",
    "assert to_title_case(\"that is the question\") == \"That Is The Question\"\n",
    "assert to_title_case(\"\") == \"\"\n",
    "\n",
    "print(\"The mission is done! Click 'Check Solution' to earn rewards!\")\n"
   ]
  },
  {
   "cell_type": "code",
   "execution_count": 83,
   "id": "3b7afb7e-ba07-4ff7-bfb8-c74be306eccb",
   "metadata": {},
   "outputs": [
    {
     "data": {
      "text/plain": [
       "'H e l l o   w o r l d'"
      ]
     },
     "execution_count": 83,
     "metadata": {},
     "output_type": "execute_result"
    }
   ],
   "source": [
    "sent = \"hello world\"\n",
    "new_sent = ' '.join(sent.capitalize())\n",
    "new_sent"
   ]
  },
  {
   "cell_type": "code",
   "execution_count": 84,
   "id": "db29bb0d-3164-4714-bbe5-48a6de9317d7",
   "metadata": {},
   "outputs": [
    {
     "name": "stdout",
     "output_type": "stream",
     "text": [
      "Example:\n",
      "Hello World\n",
      "The mission is done! Click 'Check Solution' to earn rewards!\n"
     ]
    }
   ],
   "source": [
    "#method 2\n",
    "\n",
    "def to_title_case(sentence: str) -> str:\n",
    "    return (sentence.lower()).title()\n",
    "\n",
    "\n",
    "print(\"Example:\")\n",
    "print(to_title_case(\"hello world\"))\n",
    "\n",
    "# These \"asserts\" are used for self-checking\n",
    "assert to_title_case(\"hello world\") == \"Hello World\"\n",
    "assert to_title_case(\"openai gpt-4\") == \"Openai Gpt-4\"\n",
    "assert to_title_case(\"this is a title\") == \"This Is A Title\"\n",
    "assert to_title_case(\"THE QUICK BROWN FOX\") == \"The Quick Brown Fox\"\n",
    "assert to_title_case(\"JUMPs ovER a LAZy dog\") == \"Jumps Over A Lazy Dog\"\n",
    "assert to_title_case(\"typescript is great\") == \"Typescript Is Great\"\n",
    "assert to_title_case(\"the answer is 42\") == \"The Answer Is 42\"\n",
    "assert to_title_case(\"to be or not to be\") == \"To Be Or Not To Be\"\n",
    "assert to_title_case(\"that is the question\") == \"That Is The Question\"\n",
    "assert to_title_case(\"\") == \"\"\n",
    "\n",
    "print(\"The mission is done! Click 'Check Solution' to earn rewards!\")"
   ]
  },
  {
   "cell_type": "code",
   "execution_count": 85,
   "id": "91d6759b-bfb1-49b6-a980-33d9830f1c03",
   "metadata": {},
   "outputs": [
    {
     "data": {
      "text/plain": [
       "'Hello Justin'"
      ]
     },
     "execution_count": 85,
     "metadata": {},
     "output_type": "execute_result"
    }
   ],
   "source": [
    "# Replacing a word with another word in a string\n",
    "\n",
    "def replace_word(mainText:str, target:str, repl:str):\n",
    "    words = mainText.split()\n",
    "    newText = []\n",
    "\n",
    "    for word in words:\n",
    "        if word == target:\n",
    "            newText.append(repl)\n",
    "        else:\n",
    "            newText.append(word)\n",
    "\n",
    "    return ' '.join(newText)\n",
    "\n",
    "\n",
    "replace_word(\"Hello world\", \"world\", \"Justin\")"
   ]
  },
  {
   "cell_type": "code",
   "execution_count": 89,
   "id": "272adebe-15e9-4b87-9780-c31ea7363879",
   "metadata": {},
   "outputs": [
    {
     "name": "stdout",
     "output_type": "stream",
     "text": [
      "24\n",
      "120\n",
      "The mission is done! Click 'Check Solution' to earn rewards!\n"
     ]
    }
   ],
   "source": [
    "# Factorial of a number\n",
    "\n",
    "def factorial(num:int) -> int:\n",
    "    fact = 1\n",
    "    if num == 0 or num == 1:\n",
    "        return 1\n",
    "    else:\n",
    "        for i in range (1,num+1):\n",
    "            fact = i * fact\n",
    "    return fact\n",
    "\n",
    "print(factorial(4))\n",
    "print(factorial(5))\n",
    "\n",
    "\n",
    "# These \"asserts\" are used for self-checking\n",
    "assert factorial(0) == 1\n",
    "assert factorial(1) == 1\n",
    "assert factorial(5) == 120\n",
    "assert factorial(10) == 3628800\n",
    "assert factorial(15) == 1307674368000\n",
    "\n",
    "print(\"The mission is done! Click 'Check Solution' to earn rewards!\")"
   ]
  },
  {
   "cell_type": "code",
   "execution_count": 90,
   "id": "c15a23af-a867-4568-a4ac-7e1a4854d807",
   "metadata": {},
   "outputs": [
    {
     "name": "stdout",
     "output_type": "stream",
     "text": [
      "Example:\n",
      "24\n"
     ]
    }
   ],
   "source": [
    "#method 2:\n",
    "# Calling the same function within the function instead of using a for loop\n",
    "\n",
    "def factorial(n: int) -> int:\n",
    "    return 1 if n==0 or n==1 else n*factorial(n-1)\n",
    "\n",
    "\n",
    "print(\"Example:\")\n",
    "print(factorial(4))"
   ]
  },
  {
   "cell_type": "code",
   "execution_count": 92,
   "id": "9a07f53f-e487-4db2-8161-8dbda2980ad5",
   "metadata": {},
   "outputs": [
    {
     "data": {
      "text/plain": [
       "'Justin'"
      ]
     },
     "execution_count": 92,
     "metadata": {},
     "output_type": "execute_result"
    }
   ],
   "source": [
    "# To return a word or string between two characters or words\n",
    "\n",
    "def between_markers(text:str, begin:str, end:str) -> str:\n",
    "    newText = text[text.index(begin)+1: text.index(end)]\n",
    "    return newText\n",
    "\n",
    "between_markers(\"Hi my name is <Justin>\", \"<\", \">\")"
   ]
  },
  {
   "cell_type": "code",
   "execution_count": 96,
   "id": "dd36af49-7ec2-4bc0-b8ca-27eab4f63f55",
   "metadata": {},
   "outputs": [
    {
     "name": "stdout",
     "output_type": "stream",
     "text": [
      "3\n",
      "4\n",
      "3.0\n",
      "0.125\n",
      "1.0\n"
     ]
    }
   ],
   "source": [
    "# performing math operations\n",
    "import math\n",
    "\n",
    "print(math.floor(10/3))\n",
    "print(math.ceil(10/3))\n",
    "print(math.sqrt(9))\n",
    "print(math.pow(2,-3))\n",
    "print(math.fmod(10,3))"
   ]
  },
  {
   "cell_type": "code",
   "execution_count": 98,
   "id": "aa81655a-6625-4855-9e82-8f52aa609bf0",
   "metadata": {},
   "outputs": [
    {
     "name": "stdout",
     "output_type": "stream",
     "text": [
      "0\n",
      "1\n",
      "*\n",
      "1\n",
      "2\n",
      "*\n",
      "2\n",
      "3\n",
      "*\n",
      "3\n",
      "4\n",
      "*\n",
      "4\n",
      "5\n",
      "*\n"
     ]
    }
   ],
   "source": [
    "# Enumerate\n",
    "\n",
    "num = [1,2,3,4,5]\n",
    "\n",
    "for i,n in enumerate(num):\n",
    "    print(i)\n",
    "    print(n)\n",
    "    print('*')"
   ]
  },
  {
   "cell_type": "code",
   "execution_count": 100,
   "id": "799cb635-5d4d-4338-a1d5-0a0b2eacc9f0",
   "metadata": {},
   "outputs": [
    {
     "name": "stdout",
     "output_type": "stream",
     "text": [
      "1 6\n",
      "2 7\n",
      "3 8\n",
      "4 9\n",
      "5 10\n"
     ]
    }
   ],
   "source": [
    "# Looping through multiple arrays using zip function: Zip function will combine two lists into key value pair\n",
    "num1=[1,2,3,4,5]\n",
    "num2=[6,7,8,9,10]\n",
    "\n",
    "for n1, n2 in zip(num1,num2):\n",
    "    print(n1,n2)"
   ]
  },
  {
   "cell_type": "code",
   "execution_count": 105,
   "id": "4442c47e-5bfd-49ae-b1b8-58e25606b451",
   "metadata": {},
   "outputs": [
    {
     "name": "stdout",
     "output_type": "stream",
     "text": [
      "[6, 54, 4, 3, 2, 1]\n"
     ]
    }
   ],
   "source": [
    "# Reversing an array\n",
    "num = [1,2,3,4,54,6]\n",
    "num.reverse()\n",
    "print(num)"
   ]
  },
  {
   "cell_type": "code",
   "execution_count": 108,
   "id": "afbdbf96-d504-4121-99ed-87f5c770a930",
   "metadata": {},
   "outputs": [
    {
     "name": "stdout",
     "output_type": "stream",
     "text": [
      "[11, 12, 115, 635, 745, 2334, 8413]\n",
      "[8413, 2334, 745, 635, 115, 12, 11]\n"
     ]
    }
   ],
   "source": [
    "#Sorting an array\n",
    "\n",
    "num1 = [635,745,115,2334,8413,12,11]\n",
    "num1.sort()\n",
    "print(num1)\n",
    "num1.sort(reverse=True)\n",
    "print(num1)"
   ]
  },
  {
   "cell_type": "code",
   "execution_count": 114,
   "id": "a8dd1d53-e2bc-4003-80c1-353f7edfda6d",
   "metadata": {},
   "outputs": [
    {
     "data": {
      "text/plain": [
       "['amy', 'batter', 'bobatea', 'cats', 'doggy', 'fly']"
      ]
     },
     "execution_count": 114,
     "metadata": {},
     "output_type": "execute_result"
    }
   ],
   "source": [
    "# Sorting a string alphabetically\n",
    "str_arr=['bobatea', 'amy','cats','fly','doggy','batter']\n",
    "str_arr.sort()\n",
    "str_arr"
   ]
  },
  {
   "cell_type": "code",
   "execution_count": 115,
   "id": "6f38df4a-6e7f-42f1-9447-0f49accdf038",
   "metadata": {},
   "outputs": [
    {
     "data": {
      "text/plain": [
       "['amy', 'fly', 'cats', 'doggy', 'batter', 'bobatea']"
      ]
     },
     "execution_count": 115,
     "metadata": {},
     "output_type": "execute_result"
    }
   ],
   "source": [
    "#Sorting a string based on the length of the string\n",
    "\n",
    "str_arr.sort(key=lambda x: len(x))\n",
    "str_arr"
   ]
  },
  {
   "cell_type": "code",
   "execution_count": 117,
   "id": "eab2568d-a11a-4346-b77b-9cfa79dbb8a1",
   "metadata": {},
   "outputs": [
    {
     "name": "stdout",
     "output_type": "stream",
     "text": [
      "[0, 2, 4, 6, 8]\n",
      "[16826, 4668, 1490, 1270, 230, 24, 22]\n"
     ]
    }
   ],
   "source": [
    "# LIST COMPREHENSION\n",
    "\n",
    "arr = [i+i for i in range(5)]\n",
    "print(arr)\n",
    "\n",
    "arr2 = [i+i for i in num1]\n",
    "print(arr2)"
   ]
  },
  {
   "cell_type": "code",
   "execution_count": 121,
   "id": "0fce136c-5ef9-4aff-82cd-d9d9a026fc15",
   "metadata": {},
   "outputs": [
    {
     "name": "stdout",
     "output_type": "stream",
     "text": [
      "[[0, 0, 0, 0], [1, 1, 1, 1], [2, 2, 2, 2], [3, 3, 3, 3]]\n"
     ]
    }
   ],
   "source": [
    "# Creating a 2D list\n",
    "\n",
    "arr3 = [[i]*4 for i in range(4)]\n",
    "print(arr3)"
   ]
  },
  {
   "cell_type": "code",
   "execution_count": 125,
   "id": "e1480503-922b-423e-905a-9ba2ab941372",
   "metadata": {},
   "outputs": [
    {
     "name": "stdout",
     "output_type": "stream",
     "text": [
      "579\n"
     ]
    }
   ],
   "source": [
    "# Numeric strings can be converted\n",
    "\n",
    "print(int(\"123\") + int(\"456\"))"
   ]
  },
  {
   "cell_type": "code",
   "execution_count": 126,
   "id": "6cb1e27a-c180-4466-a206-0ffcd6ffb840",
   "metadata": {},
   "outputs": [
    {
     "name": "stdout",
     "output_type": "stream",
     "text": [
      "123456\n"
     ]
    }
   ],
   "source": [
    "print(str(123)+str(456))"
   ]
  },
  {
   "cell_type": "code",
   "execution_count": 128,
   "id": "89ebe443-2f7d-41ce-931a-0d0f275959df",
   "metadata": {},
   "outputs": [
    {
     "name": "stdout",
     "output_type": "stream",
     "text": [
      "ab cd ef\n"
     ]
    }
   ],
   "source": [
    "strings = ['ab','cd','ef']\n",
    "strings = \" \".join(strings)\n",
    "print(strings)"
   ]
  },
  {
   "cell_type": "code",
   "execution_count": 129,
   "id": "b5f15679-4259-4669-a177-d2b093872981",
   "metadata": {},
   "outputs": [
    {
     "data": {
      "text/plain": [
       "str"
      ]
     },
     "execution_count": 129,
     "metadata": {},
     "output_type": "execute_result"
    }
   ],
   "source": [
    "type(strings)"
   ]
  },
  {
   "cell_type": "code",
   "execution_count": null,
   "id": "392b138b-e69a-4ef2-bd4d-d5f12c1f3bb4",
   "metadata": {},
   "outputs": [],
   "source": []
  },
  {
   "cell_type": "code",
   "execution_count": null,
   "id": "c4cb0e42-4abb-4424-929f-5c985001a49a",
   "metadata": {},
   "outputs": [],
   "source": []
  },
  {
   "cell_type": "code",
   "execution_count": null,
   "id": "f336e962-add6-4b7d-9fa8-b7736acfebe3",
   "metadata": {},
   "outputs": [],
   "source": []
  },
  {
   "cell_type": "code",
   "execution_count": null,
   "id": "ec8cf749-eba0-4b1f-bd25-d8490c9ba682",
   "metadata": {},
   "outputs": [],
   "source": []
  },
  {
   "cell_type": "code",
   "execution_count": null,
   "id": "ba4ea03c-0f73-4d70-8936-8b0e8090ae20",
   "metadata": {},
   "outputs": [],
   "source": []
  },
  {
   "cell_type": "code",
   "execution_count": null,
   "id": "569ebadf-a2d7-4479-9677-d263117bda58",
   "metadata": {},
   "outputs": [],
   "source": []
  },
  {
   "cell_type": "code",
   "execution_count": null,
   "id": "321e3669-fa74-4095-9ead-bc4e7e21a657",
   "metadata": {},
   "outputs": [],
   "source": []
  },
  {
   "cell_type": "code",
   "execution_count": null,
   "id": "e849b039-ae24-4399-927e-0f5e83f9dad1",
   "metadata": {},
   "outputs": [],
   "source": []
  },
  {
   "cell_type": "code",
   "execution_count": null,
   "id": "cf11870e-c28c-433d-83f4-d3498211ad7a",
   "metadata": {},
   "outputs": [],
   "source": []
  },
  {
   "cell_type": "code",
   "execution_count": null,
   "id": "cc6c65d3-4823-4df8-8001-163f3a2f92ef",
   "metadata": {},
   "outputs": [],
   "source": []
  },
  {
   "cell_type": "code",
   "execution_count": null,
   "id": "6eeb8c34-921a-46c4-8ea0-fefe7ae1529d",
   "metadata": {},
   "outputs": [],
   "source": []
  },
  {
   "cell_type": "code",
   "execution_count": null,
   "id": "3de9ab3d-be6d-449d-9b27-184bbc5dc72b",
   "metadata": {},
   "outputs": [],
   "source": []
  },
  {
   "cell_type": "code",
   "execution_count": null,
   "id": "7e255393-7b10-457a-bc4a-5138c2e19783",
   "metadata": {},
   "outputs": [],
   "source": []
  },
  {
   "cell_type": "code",
   "execution_count": null,
   "id": "cfee9707-1a50-449e-855f-467acfe37cfa",
   "metadata": {},
   "outputs": [],
   "source": []
  },
  {
   "cell_type": "code",
   "execution_count": null,
   "id": "25962041-3a7e-406c-8a78-1dda69ad939d",
   "metadata": {},
   "outputs": [],
   "source": []
  },
  {
   "cell_type": "code",
   "execution_count": null,
   "id": "81b51d79-9dc6-41cb-b041-96935217a69f",
   "metadata": {},
   "outputs": [],
   "source": []
  },
  {
   "cell_type": "code",
   "execution_count": null,
   "id": "e0de217b-510c-4e8f-a884-84c4a109ae5a",
   "metadata": {},
   "outputs": [],
   "source": []
  },
  {
   "cell_type": "code",
   "execution_count": null,
   "id": "eec05ee2-5676-49a3-b7ac-c090df8622b3",
   "metadata": {},
   "outputs": [],
   "source": []
  },
  {
   "cell_type": "code",
   "execution_count": null,
   "id": "8b3802f2-fc65-49a9-b123-5b66a9785b49",
   "metadata": {},
   "outputs": [],
   "source": []
  }
 ],
 "metadata": {
  "kernelspec": {
   "display_name": "Python 3 (ipykernel)",
   "language": "python",
   "name": "python3"
  },
  "language_info": {
   "codemirror_mode": {
    "name": "ipython",
    "version": 3
   },
   "file_extension": ".py",
   "mimetype": "text/x-python",
   "name": "python",
   "nbconvert_exporter": "python",
   "pygments_lexer": "ipython3",
   "version": "3.11.9"
  }
 },
 "nbformat": 4,
 "nbformat_minor": 5
}
