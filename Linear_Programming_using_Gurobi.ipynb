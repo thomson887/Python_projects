{
  "nbformat": 4,
  "nbformat_minor": 0,
  "metadata": {
    "colab": {
      "provenance": [],
      "authorship_tag": "ABX9TyNaQ5TZMYJVwJTvmUXf6D+e",
      "include_colab_link": true
    },
    "kernelspec": {
      "name": "python3",
      "display_name": "Python 3"
    },
    "language_info": {
      "name": "python"
    }
  },
  "cells": [
    {
      "cell_type": "markdown",
      "metadata": {
        "id": "view-in-github",
        "colab_type": "text"
      },
      "source": [
        "<a href=\"https://colab.research.google.com/github/thomson887/Python_projects/blob/main/Linear_Programming_using_Gurobi.ipynb\" target=\"_parent\"><img src=\"https://colab.research.google.com/assets/colab-badge.svg\" alt=\"Open In Colab\"/></a>"
      ]
    },
    {
      "cell_type": "markdown",
      "source": [
        "Minimize Z = x + y + 2z;\n",
        "\n",
        "Subjected to:\n",
        "x + 2y + 3z <= 4\n",
        "\n",
        "x + y >= 1\n",
        "\n",
        "X >= 0, y >= 0"
      ],
      "metadata": {
        "id": "x7w7Gr_v5Ifr"
      }
    },
    {
      "cell_type": "code",
      "source": [
        "pip install gurobipy\n"
      ],
      "metadata": {
        "colab": {
          "base_uri": "https://localhost:8080/"
        },
        "id": "z3rQdTVk4ASr",
        "outputId": "6dac1f1c-e8ca-4875-b0bc-2728a621d90b"
      },
      "execution_count": 2,
      "outputs": [
        {
          "output_type": "stream",
          "name": "stdout",
          "text": [
            "Collecting gurobipy\n",
            "  Downloading gurobipy-11.0.3-cp310-cp310-manylinux2014_x86_64.manylinux_2_17_x86_64.whl.metadata (15 kB)\n",
            "Downloading gurobipy-11.0.3-cp310-cp310-manylinux2014_x86_64.manylinux_2_17_x86_64.whl (13.4 MB)\n",
            "\u001b[2K   \u001b[90m━━━━━━━━━━━━━━━━━━━━━━━━━━━━━━━━━━━━━━━━\u001b[0m \u001b[32m13.4/13.4 MB\u001b[0m \u001b[31m58.7 MB/s\u001b[0m eta \u001b[36m0:00:00\u001b[0m\n",
            "\u001b[?25hInstalling collected packages: gurobipy\n",
            "Successfully installed gurobipy-11.0.3\n"
          ]
        }
      ]
    },
    {
      "cell_type": "code",
      "execution_count": 3,
      "metadata": {
        "id": "iOTSGqoM3zLC"
      },
      "outputs": [],
      "source": [
        "import gurobipy as gp\n",
        "from gurobipy import GRB"
      ]
    },
    {
      "cell_type": "code",
      "source": [
        "m= gp.Model(\"Optimization Model\")\n"
      ],
      "metadata": {
        "colab": {
          "base_uri": "https://localhost:8080/"
        },
        "id": "zo3SUTbM4Fkq",
        "outputId": "870a6de8-2026-4221-95a8-d1bae0bf25a1"
      },
      "execution_count": 4,
      "outputs": [
        {
          "output_type": "stream",
          "name": "stdout",
          "text": [
            "Restricted license - for non-production use only - expires 2025-11-24\n"
          ]
        }
      ]
    },
    {
      "cell_type": "code",
      "source": [
        "#Define variables\n",
        "x = m.addVar(vtype= GRB.CONTINUOUS, name='x')\n",
        "y = m.addVar(vtype= GRB.CONTINUOUS, name='y')\n",
        "z = m.addVar(vtype= GRB.CONTINUOUS, name='z')"
      ],
      "metadata": {
        "id": "uGGZ5fos4Fgw"
      },
      "execution_count": 5,
      "outputs": []
    },
    {
      "cell_type": "code",
      "source": [
        "#Set objective\n",
        "m.setObjective(x+y+2*z, GRB.MINIMIZE)"
      ],
      "metadata": {
        "id": "QdIIa-e84Fdl"
      },
      "execution_count": 6,
      "outputs": []
    },
    {
      "cell_type": "code",
      "source": [
        "#Define Constraints\n",
        "m.addConstr(x+2*y+3*z<= 4)\n",
        "m.addConstr(x+y>=1)"
      ],
      "metadata": {
        "colab": {
          "base_uri": "https://localhost:8080/"
        },
        "id": "c1cp4DPB4Fa3",
        "outputId": "4f26a332-b9da-43fa-b358-a0c1d4904c35"
      },
      "execution_count": 7,
      "outputs": [
        {
          "output_type": "execute_result",
          "data": {
            "text/plain": [
              "<gurobi.Constr *Awaiting Model Update*>"
            ]
          },
          "metadata": {},
          "execution_count": 7
        }
      ]
    },
    {
      "cell_type": "code",
      "source": [
        "m.optimize()"
      ],
      "metadata": {
        "colab": {
          "base_uri": "https://localhost:8080/"
        },
        "id": "jpfz8lgU4FYF",
        "outputId": "01946d05-c204-4747-fa4c-189aa8089a99"
      },
      "execution_count": 8,
      "outputs": [
        {
          "output_type": "stream",
          "name": "stdout",
          "text": [
            "Gurobi Optimizer version 11.0.3 build v11.0.3rc0 (linux64 - \"Ubuntu 22.04.3 LTS\")\n",
            "\n",
            "CPU model: Intel(R) Xeon(R) CPU @ 2.20GHz, instruction set [SSE2|AVX|AVX2]\n",
            "Thread count: 1 physical cores, 2 logical processors, using up to 2 threads\n",
            "\n",
            "Optimize a model with 2 rows, 3 columns and 5 nonzeros\n",
            "Model fingerprint: 0x004a36c9\n",
            "Coefficient statistics:\n",
            "  Matrix range     [1e+00, 3e+00]\n",
            "  Objective range  [1e+00, 2e+00]\n",
            "  Bounds range     [0e+00, 0e+00]\n",
            "  RHS range        [1e+00, 4e+00]\n",
            "Presolve removed 0 rows and 1 columns\n",
            "Presolve time: 0.01s\n",
            "Presolved: 2 rows, 2 columns, 4 nonzeros\n",
            "\n",
            "Iteration    Objective       Primal Inf.    Dual Inf.      Time\n",
            "       0    0.0000000e+00   5.000000e-01   0.000000e+00      0s\n",
            "       1    1.0000000e+00   0.000000e+00   0.000000e+00      0s\n",
            "\n",
            "Solved in 1 iterations and 0.02 seconds (0.00 work units)\n",
            "Optimal objective  1.000000000e+00\n"
          ]
        }
      ]
    },
    {
      "cell_type": "code",
      "source": [
        "x"
      ],
      "metadata": {
        "colab": {
          "base_uri": "https://localhost:8080/"
        },
        "id": "wkCXceLV4FSa",
        "outputId": "a015efc2-9902-4429-a225-1e53d1553bad"
      },
      "execution_count": 9,
      "outputs": [
        {
          "output_type": "execute_result",
          "data": {
            "text/plain": [
              "<gurobi.Var x (value 1.0)>"
            ]
          },
          "metadata": {},
          "execution_count": 9
        }
      ]
    },
    {
      "cell_type": "code",
      "source": [
        "y"
      ],
      "metadata": {
        "colab": {
          "base_uri": "https://localhost:8080/"
        },
        "id": "2Obh0kgJ4FO8",
        "outputId": "30bffc38-fc40-4972-bd14-f19655d3de38"
      },
      "execution_count": 10,
      "outputs": [
        {
          "output_type": "execute_result",
          "data": {
            "text/plain": [
              "<gurobi.Var y (value 0.0)>"
            ]
          },
          "metadata": {},
          "execution_count": 10
        }
      ]
    },
    {
      "cell_type": "code",
      "source": [
        "z"
      ],
      "metadata": {
        "colab": {
          "base_uri": "https://localhost:8080/"
        },
        "id": "Cq-7Iucf4FKl",
        "outputId": "13d4b6c8-1c75-4fda-d63d-6e0dfad6bfc0"
      },
      "execution_count": 11,
      "outputs": [
        {
          "output_type": "execute_result",
          "data": {
            "text/plain": [
              "<gurobi.Var z (value 0.0)>"
            ]
          },
          "metadata": {},
          "execution_count": 11
        }
      ]
    },
    {
      "cell_type": "code",
      "source": [
        "m.getObjective()"
      ],
      "metadata": {
        "colab": {
          "base_uri": "https://localhost:8080/"
        },
        "id": "8h6RTi5F6B-M",
        "outputId": "1614998a-8414-45d3-f18c-8e68b67b66e2"
      },
      "execution_count": 12,
      "outputs": [
        {
          "output_type": "execute_result",
          "data": {
            "text/plain": [
              "<gurobi.LinExpr: x + y + 2.0 z>"
            ]
          },
          "metadata": {},
          "execution_count": 12
        }
      ]
    },
    {
      "cell_type": "code",
      "source": [
        "m.getObjective().getValue()"
      ],
      "metadata": {
        "colab": {
          "base_uri": "https://localhost:8080/"
        },
        "id": "T7fy4A9j6EK1",
        "outputId": "f610a0ba-4b3d-422c-ee15-10f9651f3a1e"
      },
      "execution_count": 13,
      "outputs": [
        {
          "output_type": "execute_result",
          "data": {
            "text/plain": [
              "1.0"
            ]
          },
          "metadata": {},
          "execution_count": 13
        }
      ]
    },
    {
      "cell_type": "markdown",
      "source": [
        "# PART 2 : Phone production optimization.\n",
        "## Goal: Maximize sales\n",
        "\n",
        "cost per unit of Foldyphones = $900\n",
        "\n",
        "cost per unit of Tinyphone = $1100\n",
        "\n",
        "\n",
        "Variables:\n",
        "\n",
        "1.   Foldyphone production numbers\n",
        "2.   Tinyphone production numbers\n",
        "\n",
        "\n",
        "\n",
        "Constraints:\n",
        "1. Stores need 200 tinyphone for contracts\n",
        "\n",
        "2. Stores need 500 Foldyphones for contracts\n",
        "\n",
        "3. Factory has 2999.5 hours of production time"
      ],
      "metadata": {
        "id": "TbJbYOFM8WsK"
      }
    },
    {
      "cell_type": "code",
      "source": [
        "\n",
        "\n",
        "m1 = gp.Model(name='Phone Production')"
      ],
      "metadata": {
        "id": "ewDyLyj56K3X"
      },
      "execution_count": 14,
      "outputs": []
    },
    {
      "cell_type": "code",
      "source": [
        "#Phone production variables\n",
        "foldyphoneproduction = m1.addVar(vtype= GRB.CONTINUOUS, name='foldyphoneproduction')\n",
        "tinyphoneproduction = m1.addVar(vtype= GRB.CONTINUOUS, name='tinyphoneproduction')\n"
      ],
      "metadata": {
        "id": "BtwjiAG56hXG"
      },
      "execution_count": 15,
      "outputs": []
    },
    {
      "cell_type": "code",
      "source": [
        "#Production time constraints\n",
        "\n",
        "foldyphonetime = 1.5\n",
        "tinyphonetime = 2"
      ],
      "metadata": {
        "id": "_ooOL0aV6061"
      },
      "execution_count": 18,
      "outputs": []
    },
    {
      "cell_type": "code",
      "source": [
        "foldyphonesaleprice = 900\n",
        "tinyphonesaleprice = 1100"
      ],
      "metadata": {
        "id": "s-zDFIhd67Md"
      },
      "execution_count": 25,
      "outputs": []
    },
    {
      "cell_type": "code",
      "source": [
        "# Production constraint\n",
        "#totalproductionconstraint =\n",
        "m1.addConstr(tinyphoneproduction*tinyphonetime + foldyphoneproduction*foldyphonetime <= 2999.5)\n",
        "\n",
        "#foldyphoneconstraint =\n",
        "m1.addConstr(foldyphoneproduction >=500)\n",
        "#tinyphoneconstraint =\n",
        "m1.addConstr(tinyphoneproduction >= 200)"
      ],
      "metadata": {
        "colab": {
          "base_uri": "https://localhost:8080/"
        },
        "id": "MbuYMKET6_Qk",
        "outputId": "37c193e1-5a4d-40ff-f43a-a3ae3c2890b8"
      },
      "execution_count": 23,
      "outputs": [
        {
          "output_type": "execute_result",
          "data": {
            "text/plain": [
              "<gurobi.Constr *Awaiting Model Update*>"
            ]
          },
          "metadata": {},
          "execution_count": 23
        }
      ]
    },
    {
      "cell_type": "code",
      "source": [
        "#Goals/ Objective\n",
        "\n",
        "m1.setObjective(foldyphonesaleprice*foldyphoneproduction + tinyphonesaleprice*tinyphoneproduction, GRB.MAXIMIZE)"
      ],
      "metadata": {
        "id": "DwkPgm9F7wne"
      },
      "execution_count": 26,
      "outputs": []
    },
    {
      "cell_type": "code",
      "source": [
        "sol = m1.optimize()"
      ],
      "metadata": {
        "colab": {
          "base_uri": "https://localhost:8080/"
        },
        "id": "2fUovv6b8R7j",
        "outputId": "59da0b27-2b08-4735-c53d-729e8dfad700"
      },
      "execution_count": 27,
      "outputs": [
        {
          "output_type": "stream",
          "name": "stdout",
          "text": [
            "Gurobi Optimizer version 11.0.3 build v11.0.3rc0 (linux64 - \"Ubuntu 22.04.3 LTS\")\n",
            "\n",
            "CPU model: Intel(R) Xeon(R) CPU @ 2.20GHz, instruction set [SSE2|AVX|AVX2]\n",
            "Thread count: 1 physical cores, 2 logical processors, using up to 2 threads\n",
            "\n",
            "Optimize a model with 3 rows, 2 columns and 4 nonzeros\n",
            "Model fingerprint: 0x6fa1a358\n",
            "Coefficient statistics:\n",
            "  Matrix range     [1e+00, 2e+00]\n",
            "  Objective range  [9e+02, 1e+03]\n",
            "  Bounds range     [0e+00, 0e+00]\n",
            "  RHS range        [2e+02, 3e+03]\n",
            "Presolve removed 3 rows and 2 columns\n",
            "Presolve time: 0.01s\n",
            "Presolve: All rows and columns removed\n",
            "Iteration    Objective       Primal Inf.    Dual Inf.      Time\n",
            "       0    1.7797000e+06   0.000000e+00   0.000000e+00      0s\n",
            "\n",
            "Solved in 0 iterations and 0.03 seconds (0.00 work units)\n",
            "Optimal objective  1.779700000e+06\n"
          ]
        }
      ]
    },
    {
      "cell_type": "code",
      "source": [
        "# Number of foldyphones to be produced.\n",
        "\n",
        "foldyphoneproduction"
      ],
      "metadata": {
        "colab": {
          "base_uri": "https://localhost:8080/"
        },
        "id": "I93XLohf8gYt",
        "outputId": "2eff3369-b8b5-4a29-9609-ed67264870df"
      },
      "execution_count": 33,
      "outputs": [
        {
          "output_type": "execute_result",
          "data": {
            "text/plain": [
              "<gurobi.Var foldyphoneproduction (value 1733.0)>"
            ]
          },
          "metadata": {},
          "execution_count": 33
        }
      ]
    },
    {
      "cell_type": "code",
      "source": [
        "# Number of tine phones to be produced\n",
        "tinyphoneproduction"
      ],
      "metadata": {
        "colab": {
          "base_uri": "https://localhost:8080/"
        },
        "id": "MyDFEu5h8kgD",
        "outputId": "bb064dcf-1166-48cb-ab11-65b47ba9b85f"
      },
      "execution_count": 34,
      "outputs": [
        {
          "output_type": "execute_result",
          "data": {
            "text/plain": [
              "<gurobi.Var tinyphoneproduction (value 200.0)>"
            ]
          },
          "metadata": {},
          "execution_count": 34
        }
      ]
    },
    {
      "cell_type": "code",
      "source": [
        "# Total revenue\n",
        "m1.getObjective().getValue()"
      ],
      "metadata": {
        "colab": {
          "base_uri": "https://localhost:8080/"
        },
        "id": "BV4uZZ3K8mzi",
        "outputId": "0da1286d-b1a5-4686-e345-7abbfccd37b0"
      },
      "execution_count": 31,
      "outputs": [
        {
          "output_type": "execute_result",
          "data": {
            "text/plain": [
              "1779700.0"
            ]
          },
          "metadata": {},
          "execution_count": 31
        }
      ]
    }
  ]
}