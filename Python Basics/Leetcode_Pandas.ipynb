{
 "cells": [
  {
   "cell_type": "markdown",
   "id": "842c2d51-5332-4dab-9d3e-c49a93fbf9ee",
   "metadata": {},
   "source": [
    "# LEETCODE QUESTIONS FOR PANDAS"
   ]
  },
  {
   "cell_type": "code",
   "execution_count": 7,
   "id": "2fad40b5-c548-46e1-965e-f9f4f7c7c39c",
   "metadata": {},
   "outputs": [],
   "source": [
    "## Create dataframe from list\n",
    "\"\"\"Write a solution to create a DataFrame from a 2D list called student_data. This 2D list contains the IDs and ages of some students.\n",
    "\n",
    "The DataFrame should have two columns, student_id and age, and be in the same order as the original 2D list.\n",
    "\n",
    "The result format is in the following example.\n",
    "\n",
    " \n",
    "\n",
    "Example 1:\n",
    "\n",
    "Input:\n",
    "student_data:\n",
    "[\n",
    "  [1, 15],\n",
    "  [2, 11],\n",
    "  [3, 11],\n",
    "  [4, 20]\n",
    "]\n",
    "Output:\n",
    "+------------+-----+\n",
    "| student_id | age |\n",
    "+------------+-----+\n",
    "| 1          | 15  |\n",
    "| 2          | 11  |\n",
    "| 3          | 11  |\n",
    "| 4          | 20  |\n",
    "+------------+-----+\n",
    "Explanation:\n",
    "A DataFrame was created on top of student_data, with two columns named student_id and age.\"\"\"\n",
    "\n",
    "import pandas as pd\n",
    "\n",
    "def createDataframe(student_data: list[list[int]]) -> pd.DataFrame:\n",
    "    return pd.DataFrame(student_data, columns=['student_id', 'age'])\n",
    "    #return df"
   ]
  },
  {
   "cell_type": "code",
   "execution_count": 8,
   "id": "ff819ede-57b9-4691-9329-e7c58c218f4d",
   "metadata": {},
   "outputs": [
    {
     "data": {
      "text/html": [
       "<div>\n",
       "<style scoped>\n",
       "    .dataframe tbody tr th:only-of-type {\n",
       "        vertical-align: middle;\n",
       "    }\n",
       "\n",
       "    .dataframe tbody tr th {\n",
       "        vertical-align: top;\n",
       "    }\n",
       "\n",
       "    .dataframe thead th {\n",
       "        text-align: right;\n",
       "    }\n",
       "</style>\n",
       "<table border=\"1\" class=\"dataframe\">\n",
       "  <thead>\n",
       "    <tr style=\"text-align: right;\">\n",
       "      <th></th>\n",
       "      <th>student_id</th>\n",
       "      <th>age</th>\n",
       "    </tr>\n",
       "  </thead>\n",
       "  <tbody>\n",
       "    <tr>\n",
       "      <th>0</th>\n",
       "      <td>1</td>\n",
       "      <td>15</td>\n",
       "    </tr>\n",
       "    <tr>\n",
       "      <th>1</th>\n",
       "      <td>2</td>\n",
       "      <td>11</td>\n",
       "    </tr>\n",
       "    <tr>\n",
       "      <th>2</th>\n",
       "      <td>3</td>\n",
       "      <td>11</td>\n",
       "    </tr>\n",
       "    <tr>\n",
       "      <th>3</th>\n",
       "      <td>4</td>\n",
       "      <td>20</td>\n",
       "    </tr>\n",
       "  </tbody>\n",
       "</table>\n",
       "</div>"
      ],
      "text/plain": [
       "   student_id  age\n",
       "0           1   15\n",
       "1           2   11\n",
       "2           3   11\n",
       "3           4   20"
      ]
     },
     "execution_count": 8,
     "metadata": {},
     "output_type": "execute_result"
    }
   ],
   "source": [
    "student_data = [[1,15],[2,11],[3,11],[4,20]]\n",
    "createDataframe(student_data)"
   ]
  },
  {
   "cell_type": "code",
   "execution_count": 9,
   "id": "aa16b93d-26e5-483c-a529-1b246ae81bf5",
   "metadata": {},
   "outputs": [
    {
     "data": {
      "text/plain": [
       "[4, 2]"
      ]
     },
     "execution_count": 9,
     "metadata": {},
     "output_type": "execute_result"
    }
   ],
   "source": [
    "\"\"\"DataFrame players:\n",
    "+-------------+--------+\n",
    "| Column Name | Type   |\n",
    "+-------------+--------+\n",
    "| player_id   | int    |\n",
    "| name        | object |\n",
    "| age         | int    |\n",
    "| position    | object |\n",
    "| ...         | ...    |\n",
    "+-------------+--------+\n",
    "Write a solution to calculate and display the number of rows and columns of players.\n",
    "\n",
    "Return the result as an array:\n",
    "\n",
    "[number of rows, number of columns]\n",
    "\n",
    "The result format is in the following example.\n",
    "\n",
    " \n",
    "\n",
    "Example 1:\n",
    "\n",
    "Input:\n",
    "+-----------+----------+-----+-------------+--------------------+\n",
    "| player_id | name     | age | position    | team               |\n",
    "+-----------+----------+-----+-------------+--------------------+\n",
    "| 846       | Mason    | 21  | Forward     | RealMadrid         |\n",
    "| 749       | Riley    | 30  | Winger      | Barcelona          |\n",
    "| 155       | Bob      | 28  | Striker     | ManchesterUnited   |\n",
    "| 583       | Isabella | 32  | Goalkeeper  | Liverpool          |\n",
    "| 388       | Zachary  | 24  | Midfielder  | BayernMunich       |\n",
    "| 883       | Ava      | 23  | Defender    | Chelsea            |\n",
    "| 355       | Violet   | 18  | Striker     | Juventus           |\n",
    "| 247       | Thomas   | 27  | Striker     | ParisSaint-Germain |\n",
    "| 761       | Jack     | 33  | Midfielder  | ManchesterCity     |\n",
    "| 642       | Charlie  | 36  | Center-back | Arsenal            |\n",
    "+-----------+----------+-----+-------------+--------------------+\n",
    "Output:\n",
    "[10, 5]\n",
    "Explanation:\n",
    "This DataFrame contains 10 rows and 5 columns.\"\"\"\n",
    "\n",
    "import numpy as np\n",
    "def getDataframeSize(players: pd.DataFrame) -> list[int]:\n",
    "    return list(np.array(players).shape)\n",
    "\n",
    "getDataframeSize(student_data)"
   ]
  },
  {
   "cell_type": "code",
   "execution_count": 10,
   "id": "6da473b8-4a42-42a0-a080-1d021e3310ee",
   "metadata": {},
   "outputs": [
    {
     "name": "stdout",
     "output_type": "stream",
     "text": [
      "The original list is ['gfg', 'is', 'best']\n",
      "The second list is ['hi', 'bye', 'cya']\n",
      "The third list is [1, 2, 3]\n",
      "The resulting dictionary using the 3 lists is {1: ('gfg', 'hi'), 2: ('is', 'bye'), 3: ('best', 'cya')}\n"
     ]
    }
   ],
   "source": [
    "\"\"\"Creating a dictionary from a list\"\"\"\n",
    "\n",
    "# initializing list\n",
    "test_list1 = [\"gfg\", \"is\", \"best\"] \n",
    "test_list2 = ['hi', 'bye', 'cya']\n",
    "test_list3 = [1,2,3]\n",
    "\n",
    "print(f\"The original list is {test_list1}\")\n",
    "print(f\"The second list is {test_list2}\")\n",
    "print(f\"The third list is {test_list3}\")\n",
    "\n",
    "zip1 = zip(test_list1, test_list2)\n",
    "dict1 = dict(zip(test_list3, zip1))\n",
    "print(f\"The resulting dictionary using the 3 lists is {dict1}\")"
   ]
  },
  {
   "cell_type": "code",
   "execution_count": 11,
   "id": "663f2c18-16e4-4dcd-a1bd-280e5670cb72",
   "metadata": {},
   "outputs": [
    {
     "name": "stdout",
     "output_type": "stream",
     "text": [
      "{'name': 'John', 'age': 25, 'city': 'New York'}\n",
      "{'name': 'John', 'age': 25, 'city': 'New York'}\n"
     ]
    }
   ],
   "source": [
    "# Using zip function.\n",
    "keys = ['name', 'age', 'city']\n",
    "values = ['John', 25, 'New York']\n",
    "\n",
    "dictionary = dict(zip(keys, values))\n",
    "print(dictionary)\n",
    "\n",
    "# Using List comprehension\n",
    "dictionary2 = {key: value for key,value in zip(keys, values)}\n",
    "print(dictionary2)\n",
    "\n"
   ]
  },
  {
   "cell_type": "code",
   "execution_count": 12,
   "id": "b6f28809-abe3-465e-a31f-28db65aa8c0d",
   "metadata": {},
   "outputs": [
    {
     "name": "stdout",
     "output_type": "stream",
     "text": [
      "{'red': 1, 'blue': 2, 'green': 3}\n"
     ]
    }
   ],
   "source": [
    "# Converting a list of tuples into a dictionary. To do this we use dict() constructor. It takes only one argument.\n",
    "\n",
    "color=[('red',1),('blue',2),('green',3)]\n",
    "\n",
    "d = dict(color)\n",
    "print(d)"
   ]
  },
  {
   "cell_type": "code",
   "execution_count": 13,
   "id": "713467a9-14c3-4778-9063-b821681e9ea8",
   "metadata": {},
   "outputs": [],
   "source": [
    "# Converting 2 lists of different sizes into a dictionary.\n",
    "from itertools import zip_longest\n",
    "\n",
    "lista = [1,2,3,4,54,56,6,7,8,9]\n",
    "listb = ('a,b,c,d').split(',')\n",
    "listc = ('a b c d e f g h').split()\n",
    "dict2= zip_longest(lista, listb)\n"
   ]
  },
  {
   "cell_type": "code",
   "execution_count": 14,
   "id": "7093b3b3-a08f-497d-9b48-f25c53997fca",
   "metadata": {},
   "outputs": [
    {
     "name": "stdout",
     "output_type": "stream",
     "text": [
      "['a', 'b', 'c', 'd']\n",
      "['a', 'b', 'c', 'd', 'e', 'f', 'g', 'h']\n",
      "{1: 'a', 2: 'b', 3: 'c', 4: 'd', 54: None, 56: None, 6: None, 7: None, 8: None, 9: None}\n"
     ]
    }
   ],
   "source": [
    "print(listb)\n",
    "print(listc)\n",
    "print(dict(dict2))"
   ]
  },
  {
   "cell_type": "code",
   "execution_count": 15,
   "id": "99f4208c-f2d2-421c-bb50-a4c3c34c2e50",
   "metadata": {},
   "outputs": [
    {
     "name": "stdout",
     "output_type": "stream",
     "text": [
      "   student_id  name  age\n",
      "0         101  Uday   13\n",
      "1          53  Ajay   14\n",
      "2         128  Jack   13\n",
      "3           3  John   12\n",
      "   student_id  name  age\n",
      "0         101  Uday   13\n"
     ]
    },
    {
     "data": {
      "text/html": [
       "<div>\n",
       "<style scoped>\n",
       "    .dataframe tbody tr th:only-of-type {\n",
       "        vertical-align: middle;\n",
       "    }\n",
       "\n",
       "    .dataframe tbody tr th {\n",
       "        vertical-align: top;\n",
       "    }\n",
       "\n",
       "    .dataframe thead th {\n",
       "        text-align: right;\n",
       "    }\n",
       "</style>\n",
       "<table border=\"1\" class=\"dataframe\">\n",
       "  <thead>\n",
       "    <tr style=\"text-align: right;\">\n",
       "      <th></th>\n",
       "      <th>name</th>\n",
       "      <th>age</th>\n",
       "    </tr>\n",
       "  </thead>\n",
       "  <tbody>\n",
       "    <tr>\n",
       "      <th>0</th>\n",
       "      <td>Uday</td>\n",
       "      <td>13</td>\n",
       "    </tr>\n",
       "  </tbody>\n",
       "</table>\n",
       "</div>"
      ],
      "text/plain": [
       "   name  age\n",
       "0  Uday   13"
      ]
     },
     "execution_count": 15,
     "metadata": {},
     "output_type": "execute_result"
    }
   ],
   "source": [
    "# Selecting data based on a condition.\n",
    "\n",
    "def selectData(students: pd.DataFrame) -> pd.DataFrame:\n",
    "    print(students[students[\"student_id\"]==101])\n",
    "    #print(students[students[\"student_id\"]==101, ['name', 'age']])\n",
    "    return students.loc[students[\"student_id\"] == 101,[\"name\", \"age\"]]\n",
    "    \n",
    "\n",
    "student_id = [101,53,128,3]\n",
    "name = ('Uday Ajay Jack John').split()\n",
    "age = [13,14,13,12]\n",
    "\n",
    "df1 = pd.DataFrame({'student_id': student_id, 'name':name, 'age': age})\n",
    "print(df1)\n",
    "\n",
    "selectData(df1)"
   ]
  },
  {
   "cell_type": "code",
   "execution_count": 16,
   "id": "978a3f3b-bece-4302-b70f-663fe56d70b9",
   "metadata": {},
   "outputs": [
    {
     "name": "stdout",
     "output_type": "stream",
     "text": [
      "   student_id  name  age  age_squared\n",
      "0         101  Uday   13          169\n",
      "1          53  Ajay   14          196\n",
      "2         128  Jack   13          169\n",
      "3           3  John   12          144\n"
     ]
    }
   ],
   "source": [
    "# Creating a new column\n",
    "\n",
    "df1['age_squared'] = df1['age']**2\n",
    "print(df1)"
   ]
  },
  {
   "cell_type": "code",
   "execution_count": 17,
   "id": "a882ef57-b293-44ba-8f44-16ad44d77e1b",
   "metadata": {},
   "outputs": [
    {
     "name": "stdout",
     "output_type": "stream",
     "text": [
      "   student_id    name  age  age_squared\n",
      "0         121  Justin   14          196\n",
      "   student_id    name  age  age_squared\n",
      "0         130  yasmin   15          225\n",
      "   student_id    name  age  age_squared\n",
      "0         101    Uday   13          169\n",
      "1          53    Ajay   14          196\n",
      "2         128    Jack   13          169\n",
      "3           3    John   12          144\n",
      "0         121  Justin   14          196\n",
      "0         130  yasmin   15          225\n"
     ]
    }
   ],
   "source": [
    "# Creating a new row in a dataframe.\n",
    "# The new line should be passed as a disctionary into a new dataframe first. To do this if we are passing in values as a scalar and not as a list\n",
    "# then we have to pass an index. Else we have to pass it as a list first.\n",
    "df2 = pd.DataFrame({'student_id':[121], 'name':['Justin'], 'age': [14], 'age_squared': [196]})\n",
    "print(df2)\n",
    "\n",
    "# OR\n",
    "df3 = pd.DataFrame({'student_id':130, 'name': 'yasmin', 'age': 15, 'age_squared': 225},index=[0])\n",
    "print(df3)\n",
    "\n",
    "\n",
    "df1 = pd.concat([df1,df2,df3], axis=0)\n",
    "print(df1)\n",
    "\n"
   ]
  },
  {
   "cell_type": "code",
   "execution_count": 18,
   "id": "8f0af444-53c0-4a10-91a8-9b598f07a683",
   "metadata": {},
   "outputs": [
    {
     "name": "stdout",
     "output_type": "stream",
     "text": [
      "   student_id    name  age  age_squared\n",
      "0         121  Justin   14          196\n",
      "1         140    sofi   12          144\n",
      "2         149  frooti   11          121\n"
     ]
    }
   ],
   "source": [
    "df4 = pd.DataFrame({'student_id':[121,140,149], 'name':['Justin', 'sofi', 'frooti' ], 'age': [14,12,11], 'age_squared': [196,144,121]})\n",
    "print(df4)"
   ]
  },
  {
   "cell_type": "code",
   "execution_count": 19,
   "id": "4b1a537e-cdb1-4339-8411-418cdb422995",
   "metadata": {},
   "outputs": [
    {
     "name": "stdout",
     "output_type": "stream",
     "text": [
      "   student_id    name  age  age_squared\n",
      "0         101    Uday   13          169\n",
      "1          53    Ajay   14          196\n",
      "2         128    Jack   13          169\n",
      "3           3    John   12          144\n",
      "0         121  Justin   14          196\n",
      "0         130  yasmin   15          225\n"
     ]
    }
   ],
   "source": [
    "#Drop duplicate rows\n",
    "\n",
    "df1.drop_duplicates(inplace=True)\n",
    "print(df1)"
   ]
  },
  {
   "cell_type": "code",
   "execution_count": 20,
   "id": "6f9df5e4-2f0b-4630-9641-74d7800388e9",
   "metadata": {},
   "outputs": [],
   "source": [
    "# Rename columns in a dataframe\n",
    "\n",
    "def renameColumns(students: pd.DataFrame) -> pd.DataFrame:\n",
    "    return students.rename(columns={'id':'student_id','first': 'first_name', 'last': 'last_name', 'age': 'age_in_years'})"
   ]
  },
  {
   "cell_type": "code",
   "execution_count": 21,
   "id": "afcc38dd-cef0-40a2-8245-46cce00ba7c3",
   "metadata": {},
   "outputs": [],
   "source": [
    "# Change datatype of a column\n",
    "\n",
    "def changeDatatype(students: pd.DataFrame) -> pd.DataFrame:\n",
    "    students['grade'] = students['grade'].astype(int)\n",
    "    return students"
   ]
  },
  {
   "cell_type": "code",
   "execution_count": 22,
   "id": "8d1575ed-9435-4b87-846a-984ff01bab10",
   "metadata": {},
   "outputs": [
    {
     "data": {
      "text/html": [
       "<div>\n",
       "<style scoped>\n",
       "    .dataframe tbody tr th:only-of-type {\n",
       "        vertical-align: middle;\n",
       "    }\n",
       "\n",
       "    .dataframe tbody tr th {\n",
       "        vertical-align: top;\n",
       "    }\n",
       "\n",
       "    .dataframe thead th {\n",
       "        text-align: right;\n",
       "    }\n",
       "</style>\n",
       "<table border=\"1\" class=\"dataframe\">\n",
       "  <thead>\n",
       "    <tr style=\"text-align: right;\">\n",
       "      <th></th>\n",
       "      <th>city</th>\n",
       "      <th>month</th>\n",
       "      <th>temperature</th>\n",
       "    </tr>\n",
       "  </thead>\n",
       "  <tbody>\n",
       "    <tr>\n",
       "      <th>0</th>\n",
       "      <td>Jacksonville</td>\n",
       "      <td>January</td>\n",
       "      <td>13</td>\n",
       "    </tr>\n",
       "    <tr>\n",
       "      <th>1</th>\n",
       "      <td>Jacksonville</td>\n",
       "      <td>February</td>\n",
       "      <td>23</td>\n",
       "    </tr>\n",
       "    <tr>\n",
       "      <th>2</th>\n",
       "      <td>Jacksonville</td>\n",
       "      <td>March</td>\n",
       "      <td>38</td>\n",
       "    </tr>\n",
       "    <tr>\n",
       "      <th>3</th>\n",
       "      <td>Jacksonville</td>\n",
       "      <td>April</td>\n",
       "      <td>5</td>\n",
       "    </tr>\n",
       "    <tr>\n",
       "      <th>4</th>\n",
       "      <td>Jacksonville</td>\n",
       "      <td>May</td>\n",
       "      <td>34</td>\n",
       "    </tr>\n",
       "  </tbody>\n",
       "</table>\n",
       "</div>"
      ],
      "text/plain": [
       "             city       month  temperature\n",
       "0   Jacksonville    January             13\n",
       "1   Jacksonville    February            23\n",
       "2   Jacksonville    March               38\n",
       "3   Jacksonville    April                5\n",
       "4   Jacksonville    May                 34"
      ]
     },
     "execution_count": 22,
     "metadata": {},
     "output_type": "execute_result"
    }
   ],
   "source": [
    "df5 = pd.read_csv('data1.csv')\n",
    "df5.head()"
   ]
  },
  {
   "cell_type": "code",
   "execution_count": 23,
   "id": "b1dac0ad-a406-4be5-b2fe-9ad48929718b",
   "metadata": {},
   "outputs": [],
   "source": [
    "df5.rename(columns={' city':'city',' month':'month', 'temperature':'temperature'}, inplace=True)"
   ]
  },
  {
   "cell_type": "code",
   "execution_count": 24,
   "id": "4a3110a2-8e2d-4fe7-8b97-bc8cd5329318",
   "metadata": {},
   "outputs": [
    {
     "data": {
      "text/plain": [
       "Index(['city', 'month', 'temperature'], dtype='object')"
      ]
     },
     "execution_count": 24,
     "metadata": {},
     "output_type": "execute_result"
    }
   ],
   "source": [
    "df5.columns"
   ]
  },
  {
   "cell_type": "code",
   "execution_count": 25,
   "id": "e6e63b6d-6321-4801-9313-48ef3f5dea09",
   "metadata": {},
   "outputs": [
    {
     "data": {
      "text/html": [
       "<div>\n",
       "<style scoped>\n",
       "    .dataframe tbody tr th:only-of-type {\n",
       "        vertical-align: middle;\n",
       "    }\n",
       "\n",
       "    .dataframe tbody tr th {\n",
       "        vertical-align: top;\n",
       "    }\n",
       "\n",
       "    .dataframe thead th {\n",
       "        text-align: right;\n",
       "    }\n",
       "</style>\n",
       "<table border=\"1\" class=\"dataframe\">\n",
       "  <thead>\n",
       "    <tr style=\"text-align: right;\">\n",
       "      <th>city</th>\n",
       "      <th>ElPaso</th>\n",
       "      <th>Jacksonville</th>\n",
       "    </tr>\n",
       "    <tr>\n",
       "      <th>month</th>\n",
       "      <th></th>\n",
       "      <th></th>\n",
       "    </tr>\n",
       "  </thead>\n",
       "  <tbody>\n",
       "    <tr>\n",
       "      <th>April</th>\n",
       "      <td>2</td>\n",
       "      <td>5</td>\n",
       "    </tr>\n",
       "    <tr>\n",
       "      <th>February</th>\n",
       "      <td>6</td>\n",
       "      <td>23</td>\n",
       "    </tr>\n",
       "    <tr>\n",
       "      <th>January</th>\n",
       "      <td>20</td>\n",
       "      <td>13</td>\n",
       "    </tr>\n",
       "    <tr>\n",
       "      <th>March</th>\n",
       "      <td>26</td>\n",
       "      <td>38</td>\n",
       "    </tr>\n",
       "    <tr>\n",
       "      <th>May</th>\n",
       "      <td>43</td>\n",
       "      <td>34</td>\n",
       "    </tr>\n",
       "  </tbody>\n",
       "</table>\n",
       "</div>"
      ],
      "text/plain": [
       "city       ElPaso         Jacksonville \n",
       "month                                  \n",
       "April                  2              5\n",
       "February               6             23\n",
       "January               20             13\n",
       "March                 26             38\n",
       "May                   43             34"
      ]
     },
     "execution_count": 25,
     "metadata": {},
     "output_type": "execute_result"
    }
   ],
   "source": [
    "# Creating a pivot table\n",
    "\n",
    "df_pivot = pd.pivot_table(df5,index='month', columns='city', values='temperature',aggfunc='max')\n",
    "df_pivot"
   ]
  },
  {
   "cell_type": "code",
   "execution_count": 26,
   "id": "450b9574-d4e8-4eae-93e3-fea32964bde8",
   "metadata": {},
   "outputs": [
    {
     "name": "stdout",
     "output_type": "stream",
     "text": [
      "         product  quarter_1  quarter_2  quarter_3  quarter_4\n",
      "0   Umbrella            417        224        379        611\n",
      "1   SleepingBag         800        936         93        875\n",
      "\n",
      "\n",
      "         product    quarter  sales\n",
      "0   Umbrella      quarter_1    417\n",
      "1   SleepingBag   quarter_1    800\n",
      "2   Umbrella      quarter_2    224\n",
      "3   SleepingBag   quarter_2    936\n",
      "4   Umbrella      quarter_3    379\n",
      "5   SleepingBag   quarter_3     93\n",
      "6   Umbrella      quarter_4    611\n",
      "7   SleepingBag   quarter_4    875\n"
     ]
    }
   ],
   "source": [
    "# Un-pivot the data\n",
    "df6 = pd.read_csv('data2.csv')\n",
    "print(df6)\n",
    "\n",
    "print('\\n')\n",
    "\n",
    "df_melt = pd.melt(df6,id_vars=['product'], var_name='quarter',value_name='sales')\n",
    "print(df_melt)"
   ]
  },
  {
   "cell_type": "code",
   "execution_count": 27,
   "id": "70c94f48-dd7c-4307-8c34-2fff827c6b41",
   "metadata": {},
   "outputs": [
    {
     "data": {
      "text/html": [
       "<div>\n",
       "<style scoped>\n",
       "    .dataframe tbody tr th:only-of-type {\n",
       "        vertical-align: middle;\n",
       "    }\n",
       "\n",
       "    .dataframe tbody tr th {\n",
       "        vertical-align: top;\n",
       "    }\n",
       "\n",
       "    .dataframe thead th {\n",
       "        text-align: right;\n",
       "    }\n",
       "</style>\n",
       "<table border=\"1\" class=\"dataframe\">\n",
       "  <thead>\n",
       "    <tr style=\"text-align: right;\">\n",
       "      <th>quarter</th>\n",
       "      <th>quarter_1</th>\n",
       "      <th>quarter_2</th>\n",
       "      <th>quarter_3</th>\n",
       "      <th>quarter_4</th>\n",
       "    </tr>\n",
       "    <tr>\n",
       "      <th>product</th>\n",
       "      <th></th>\n",
       "      <th></th>\n",
       "      <th></th>\n",
       "      <th></th>\n",
       "    </tr>\n",
       "  </thead>\n",
       "  <tbody>\n",
       "    <tr>\n",
       "      <th>SleepingBag</th>\n",
       "      <td>800</td>\n",
       "      <td>936</td>\n",
       "      <td>93</td>\n",
       "      <td>875</td>\n",
       "    </tr>\n",
       "    <tr>\n",
       "      <th>Umbrella</th>\n",
       "      <td>417</td>\n",
       "      <td>224</td>\n",
       "      <td>379</td>\n",
       "      <td>611</td>\n",
       "    </tr>\n",
       "  </tbody>\n",
       "</table>\n",
       "</div>"
      ],
      "text/plain": [
       "quarter       quarter_1  quarter_2  quarter_3  quarter_4\n",
       "product                                                 \n",
       "SleepingBag         800        936         93        875\n",
       "Umbrella            417        224        379        611"
      ]
     },
     "execution_count": 27,
     "metadata": {},
     "output_type": "execute_result"
    }
   ],
   "source": [
    "df7 = pd.pivot_table(df_melt, index='product', columns='quarter', values='sales', aggfunc = 'sum')\n",
    "df7"
   ]
  },
  {
   "cell_type": "code",
   "execution_count": 28,
   "id": "0c0a71db-fa0a-4d10-a286-dfe33c66ef95",
   "metadata": {},
   "outputs": [
    {
     "name": "stdout",
     "output_type": "stream",
     "text": [
      "   article_id  author_id  viewer_id     view_date\n",
      "0           1          3          5   2019-08-01 \n",
      "1           1          3          6   2019-08-02 \n",
      "2           2          7          7   2019-08-01 \n",
      "3           2          7          6   2019-08-02 \n",
      "4           4          7          1   2019-07-22 \n",
      "5           3          4          4   2019-07-21 \n",
      "6           3          4          4   2019-07-21 \n"
     ]
    },
    {
     "data": {
      "text/html": [
       "<div>\n",
       "<style scoped>\n",
       "    .dataframe tbody tr th:only-of-type {\n",
       "        vertical-align: middle;\n",
       "    }\n",
       "\n",
       "    .dataframe tbody tr th {\n",
       "        vertical-align: top;\n",
       "    }\n",
       "\n",
       "    .dataframe thead th {\n",
       "        text-align: right;\n",
       "    }\n",
       "</style>\n",
       "<table border=\"1\" class=\"dataframe\">\n",
       "  <thead>\n",
       "    <tr style=\"text-align: right;\">\n",
       "      <th></th>\n",
       "      <th>id</th>\n",
       "    </tr>\n",
       "  </thead>\n",
       "  <tbody>\n",
       "    <tr>\n",
       "      <th>0</th>\n",
       "      <td>4</td>\n",
       "    </tr>\n",
       "    <tr>\n",
       "      <th>1</th>\n",
       "      <td>7</td>\n",
       "    </tr>\n",
       "  </tbody>\n",
       "</table>\n",
       "</div>"
      ],
      "text/plain": [
       "   id\n",
       "0   4\n",
       "1   7"
      ]
     },
     "execution_count": 28,
     "metadata": {},
     "output_type": "execute_result"
    }
   ],
   "source": [
    "df8 = pd.read_csv('data3.csv')\n",
    "print(df8)\n",
    "\n",
    "import pandas as pd\n",
    "\n",
    "def article_views(views: pd.DataFrame) -> pd.DataFrame:\n",
    "    return pd.DataFrame(views[views['author_id'] == views['viewer_id']]['author_id']).sort_values('author_id').drop_duplicates('author_id', ignore_index=True).rename(columns={'author_id':'id'})\n",
    "\n",
    "article_views(df8)"
   ]
  },
  {
   "cell_type": "code",
   "execution_count": 29,
   "id": "da4335a1-43c9-44d4-a886-213107ed1bb0",
   "metadata": {},
   "outputs": [
    {
     "name": "stdout",
     "output_type": "stream",
     "text": [
      "17\n"
     ]
    }
   ],
   "source": [
    "# COunting length of string and filtering it based on it.\n",
    "\n",
    "str = \"my name is Justin\"\n",
    "print(len(str))\n",
    "\n",
    "def invalid_tweets(tweets: pd.DataFrame) -> pd.DataFrame:\n",
    "    return tweets.loc[tweets['content'].str.len() > 15, ['tweet_id']]\n",
    "\n"
   ]
  },
  {
   "cell_type": "code",
   "execution_count": 30,
   "id": "700d0e12-35cb-4676-a6eb-b7233b877e99",
   "metadata": {},
   "outputs": [
    {
     "data": {
      "text/plain": [
       "'U'"
      ]
     },
     "execution_count": 30,
     "metadata": {},
     "output_type": "execute_result"
    }
   ],
   "source": [
    "df6['product'][0][1]\n",
    "\n"
   ]
  },
  {
   "cell_type": "code",
   "execution_count": 31,
   "id": "5ccf95de-a706-46ec-8c3f-50234bc7951a",
   "metadata": {},
   "outputs": [],
   "source": [
    "\"\"\"Table: Employees\n",
    "\n",
    "+-------------+---------+\n",
    "| Column Name | Type    |\n",
    "+-------------+---------+\n",
    "| employee_id | int     |\n",
    "| name        | varchar |\n",
    "| salary      | int     |\n",
    "+-------------+---------+\n",
    "employee_id is the primary key (column with unique values) for this table.\n",
    "Each row of this table indicates the employee ID, employee name, and salary.\n",
    " \n",
    "\n",
    "Write a solution to calculate the bonus of each employee. The bonus of an employee is 100% of their salary if the ID of the employee is an odd number and the employee's name does not start with the character 'M'. The bonus of an employee is 0 otherwise.\n",
    "\n",
    "Return the result table ordered by employee_id.\n",
    "\n",
    "The result format is in the following example.\n",
    "\n",
    " \n",
    "\n",
    "Example 1:\n",
    "\n",
    "Input: \n",
    "Employees table:\n",
    "+-------------+---------+--------+\n",
    "| employee_id | name    | salary |\n",
    "+-------------+---------+--------+\n",
    "| 2           | Meir    | 3000   |\n",
    "| 3           | Michael | 3800   |\n",
    "| 7           | Addilyn | 7400   |\n",
    "| 8           | Juan    | 6100   |\n",
    "| 9           | Kannon  | 7700   |\n",
    "+-------------+---------+--------+\n",
    "Output: \n",
    "+-------------+-------+\n",
    "| employee_id | bonus |\n",
    "+-------------+-------+\n",
    "| 2           | 0     |\n",
    "| 3           | 0     |\n",
    "| 7           | 7400  |\n",
    "| 8           | 0     |\n",
    "| 9           | 7700  |\n",
    "+-------------+-------+\n",
    "Explanation: \n",
    "The employees with IDs 2 and 8 get 0 bonus because they have an even employee_id.\n",
    "The employee with ID 3 gets 0 bonus because their name starts with 'M'.\n",
    "The rest of the employees get a 100% bonus.\"\"\"\n",
    "\n",
    "def calculate_special_bonus(employees: pd.DataFrame) -> pd.DataFrame:\n",
    "    employees['bonus'] = 0\n",
    "    employees.loc[(employees['employee_id'] % 2 != 0) & (~employees['name'].str.startswith('M')), 'bonus'] = employees['salary']\n",
    "    result_df = employees[['employee_id', 'bonus']].sort_values(by='employee_id', ascending=True)\n",
    "    return result_df"
   ]
  },
  {
   "cell_type": "code",
   "execution_count": 32,
   "id": "2f1a2a61-6b41-4a3f-83c6-24cab2a00fbb",
   "metadata": {},
   "outputs": [],
   "source": [
    "\"\"\"Table: Users\n",
    "\n",
    "+----------------+---------+\n",
    "| Column Name    | Type    |\n",
    "+----------------+---------+\n",
    "| user_id        | int     |\n",
    "| name           | varchar |\n",
    "+----------------+---------+\n",
    "user_id is the primary key (column with unique values) for this table.\n",
    "This table contains the ID and the name of the user. The name consists of only lowercase and uppercase characters.\n",
    " \n",
    "\n",
    "Write a solution to fix the names so that only the first character is uppercase and the rest are lowercase.\n",
    "\n",
    "Return the result table ordered by user_id.\n",
    "\n",
    "The result format is in the following example.\n",
    "\n",
    " \n",
    "\n",
    "Example 1:\n",
    "\n",
    "Input: \n",
    "Users table:\n",
    "+---------+-------+\n",
    "| user_id | name  |\n",
    "+---------+-------+\n",
    "| 1       | aLice |\n",
    "| 2       | bOB   |\n",
    "+---------+-------+\n",
    "Output: \n",
    "+---------+-------+\n",
    "| user_id | name  |\n",
    "+---------+-------+\n",
    "| 1       | Alice |\n",
    "| 2       | Bob   |\n",
    "+---------+-------+\"\"\"\n",
    "\n",
    "def fix_names(users: pd.DataFrame) -> pd.DataFrame:\n",
    "    users['name'] = users['name'].str.capitalize()\n",
    "    return users['name'].sort_values(by='user_id', ascending=True)"
   ]
  },
  {
   "cell_type": "code",
   "execution_count": 33,
   "id": "23def55b-1300-4640-a684-421e17829f09",
   "metadata": {},
   "outputs": [],
   "source": [
    "\"\"\"Table: Users\n",
    "\n",
    "+---------------+---------+\n",
    "| Column Name   | Type    |\n",
    "+---------------+---------+\n",
    "| user_id       | int     |\n",
    "| name          | varchar |\n",
    "| mail          | varchar |\n",
    "+---------------+---------+\n",
    "user_id is the primary key (column with unique values) for this table.\n",
    "This table contains information of the users signed up in a website. Some e-mails are invalid.\n",
    " \n",
    "\n",
    "Write a solution to find the users who have valid emails.\n",
    "\n",
    "A valid e-mail has a prefix name and a domain where:\n",
    "\n",
    "The prefix name is a string that may contain letters (upper or lower case), digits, underscore '_', period '.', and/or dash '-'. The prefix name must start with a letter.\n",
    "The domain is '@leetcode.com'.\n",
    "Return the result table in any order.\n",
    "\"\"\"\n",
    "# SOLUTION\n",
    "\"\"\"The regex pattern r'^[A-Za-z][\\w\\.-]*@leetcode\\.com$' is used to match valid email addresses.\n",
    "\n",
    "^: Start of the string.\n",
    "[A-Za-z]: Matches any single uppercase or lowercase letter.\n",
    "[\\w\\.-]: This matches any single character that is a word character (\\w), a period (.), or a dash (-).\n",
    "*: This means that the preceding character class can appear zero or more times.\n",
    "@leetcode\\.com: Matches the domain @leetcode.com. The backslash before the dot (\\.) is used to escape the dot, which normally matches any character \n",
    "in regex.\n",
    "The $ at the end of the pattern asserts the position at the end of the string.\n",
    "the r in front of the string denotes a raw string in Python. Raw strings are prefixed with r or R and treat backslashes (\\) as literal characters. \n",
    "This means that characters following a backslash are not interpreted as escape sequences.\n",
    "\n",
    "Explanation of [\\w\\.-]*:\n",
    "[...]: This denotes a character class, which matches any one of the characters inside the brackets.\n",
    "\\w: This matches any word character (alphanumeric character plus underscore). It is equivalent to [a-zA-Z0-9_].\n",
    "\\.: This matches a literal period (.). The backslash (\\) is used to escape the period, as a period in regex normally matches any character.\n",
    "-: This matches a literal dash (-).\n",
    "*: This is a quantifier that matches zero or more occurrences of the preceding element.\n",
    "\n",
    "Raw String Usage:\n",
    "By using a raw string (r'...'), we ensure that the backslashes in the regex pattern are treated literally and not as escape sequences. \n",
    "This simplifies the pattern and avoids potential errors.\n",
    "\n",
    "For example, in a normal string, to represent a literal backslash followed by a dot, you would need to double the backslashes: '\\\\.'.\n",
    "Using a raw string allows you to write it more naturally: r'\\.'.\n",
    "Without Raw String:\n",
    "If you didn't use a raw string, you would need to escape the backslashes, making the regex harder to read and maintain:\n",
    "\n",
    "return users[users['mail'].str.match('^[A-Za-z][\\\\w\\\\.-]*@leetcode\\\\.com')]\n",
    "Using raw strings for regex patterns is a common practice in Python because it keeps the regex more readable and reduces the likelihood \n",
    "of mistakes with escaping special characters.\n",
    "\"\"\"\n",
    "\n",
    "# select * from users where regexp_like (mail,'^[a-zA-Z][A-Za-z0-9_.-]*@leetcode[.]com$);\n",
    "# SELECT * FROM Users WHERE mail REGEXP '^[a-zA-Z][a-zA-Z0-9_.-]*@leetcode[.]com$';\n",
    "\n",
    "def valid_emails(users: pd.DataFrame) -> pd.DataFrame:\n",
    "    return users[users['mail'].str.match(r'^[A-Za-z][\\w\\.-]*@leetcode\\.com$')]\n"
   ]
  },
  {
   "cell_type": "code",
   "execution_count": 34,
   "id": "96f17c07-3110-46ef-8660-b01b97699c4b",
   "metadata": {},
   "outputs": [],
   "source": [
    "# Pattern match\n",
    "\n",
    "\"\"\"Table: Patients\n",
    "\n",
    "+--------------+---------+\n",
    "| Column Name  | Type    |\n",
    "+--------------+---------+\n",
    "| patient_id   | int     |\n",
    "| patient_name | varchar |\n",
    "| conditions   | varchar |\n",
    "+--------------+---------+\n",
    "patient_id is the primary key (column with unique values) for this table.\n",
    "'conditions' contains 0 or more code separated by spaces. \n",
    "This table contains information of the patients in the hospital.\n",
    " \n",
    "\n",
    "Write a solution to find the patient_id, patient_name, and conditions of the patients who have Type I Diabetes. Type I Diabetes always starts with DIAB1 prefix.\n",
    "\n",
    "Return the result table in any order.\n",
    "\n",
    "The result format is in the following example.\n",
    "\n",
    " \n",
    "\n",
    "Example 1:\n",
    "\n",
    "Input: \n",
    "Patients table:\n",
    "+------------+--------------+--------------+\n",
    "| patient_id | patient_name | conditions   |\n",
    "+------------+--------------+--------------+\n",
    "| 1          | Daniel       | YFEV COUGH   |\n",
    "| 2          | Alice        |              |\n",
    "| 3          | Bob          | DIAB100 MYOP |\n",
    "| 4          | George       | ACNE DIAB100 |\n",
    "| 5          | Alain        | DIAB201      |\n",
    "+------------+--------------+--------------+\n",
    "Output: \n",
    "+------------+--------------+--------------+\n",
    "| patient_id | patient_name | conditions   |\n",
    "+------------+--------------+--------------+\n",
    "| 3          | Bob          | DIAB100 MYOP |\n",
    "| 4          | George       | ACNE DIAB100 | \n",
    "+------------+--------------+--------------+\n",
    "Explanation: Bob and George both have a condition that starts with DIAB1.\"\"\"\n",
    "\n",
    "def find_patients(patients: pd.DataFrame) -> pd.DataFrame:\n",
    "    patient = patients.loc[patients['conditions'].str.contains(r'\\bDIAB1')]\n",
    "    return patient"
   ]
  },
  {
   "cell_type": "code",
   "execution_count": 35,
   "id": "5e7762db-5e8f-468b-b794-8fe750194e16",
   "metadata": {},
   "outputs": [
    {
     "data": {
      "text/html": [
       "<div>\n",
       "<style scoped>\n",
       "    .dataframe tbody tr th:only-of-type {\n",
       "        vertical-align: middle;\n",
       "    }\n",
       "\n",
       "    .dataframe tbody tr th {\n",
       "        vertical-align: top;\n",
       "    }\n",
       "\n",
       "    .dataframe thead th {\n",
       "        text-align: right;\n",
       "    }\n",
       "</style>\n",
       "<table border=\"1\" class=\"dataframe\">\n",
       "  <thead>\n",
       "    <tr style=\"text-align: right;\">\n",
       "      <th></th>\n",
       "      <th>id</th>\n",
       "      <th>salary</th>\n",
       "    </tr>\n",
       "  </thead>\n",
       "  <tbody>\n",
       "    <tr>\n",
       "      <th>0</th>\n",
       "      <td>1</td>\n",
       "      <td>100</td>\n",
       "    </tr>\n",
       "    <tr>\n",
       "      <th>1</th>\n",
       "      <td>2</td>\n",
       "      <td>200</td>\n",
       "    </tr>\n",
       "    <tr>\n",
       "      <th>2</th>\n",
       "      <td>3</td>\n",
       "      <td>300</td>\n",
       "    </tr>\n",
       "    <tr>\n",
       "      <th>3</th>\n",
       "      <td>4</td>\n",
       "      <td>300</td>\n",
       "    </tr>\n",
       "    <tr>\n",
       "      <th>4</th>\n",
       "      <td>5</td>\n",
       "      <td>450</td>\n",
       "    </tr>\n",
       "  </tbody>\n",
       "</table>\n",
       "</div>"
      ],
      "text/plain": [
       "   id  salary\n",
       "0   1     100\n",
       "1   2     200\n",
       "2   3     300\n",
       "3   4     300\n",
       "4   5     450"
      ]
     },
     "execution_count": 35,
     "metadata": {},
     "output_type": "execute_result"
    }
   ],
   "source": [
    "df7 = pd.read_csv('data4.csv')\n",
    "df7.head()"
   ]
  },
  {
   "cell_type": "code",
   "execution_count": 50,
   "id": "27a7c8ee-d705-4805-b89c-15c1a77eb892",
   "metadata": {},
   "outputs": [
    {
     "name": "stdout",
     "output_type": "stream",
     "text": [
      "   salary\n",
      "5     400\n",
      "<class 'pandas.core.frame.DataFrame'>\n",
      "   getNthHighestSalary(3)\n",
      "5                     400\n"
     ]
    },
    {
     "data": {
      "text/html": [
       "<div>\n",
       "<style scoped>\n",
       "    .dataframe tbody tr th:only-of-type {\n",
       "        vertical-align: middle;\n",
       "    }\n",
       "\n",
       "    .dataframe tbody tr th {\n",
       "        vertical-align: top;\n",
       "    }\n",
       "\n",
       "    .dataframe thead th {\n",
       "        text-align: right;\n",
       "    }\n",
       "</style>\n",
       "<table border=\"1\" class=\"dataframe\">\n",
       "  <thead>\n",
       "    <tr style=\"text-align: right;\">\n",
       "      <th></th>\n",
       "      <th>getNthHighestSalary(3)</th>\n",
       "    </tr>\n",
       "  </thead>\n",
       "  <tbody>\n",
       "    <tr>\n",
       "      <th>5</th>\n",
       "      <td>400</td>\n",
       "    </tr>\n",
       "  </tbody>\n",
       "</table>\n",
       "</div>"
      ],
      "text/plain": [
       "   getNthHighestSalary(3)\n",
       "5                     400"
      ]
     },
     "execution_count": 50,
     "metadata": {},
     "output_type": "execute_result"
    }
   ],
   "source": [
    "def nth_highest_salary(employee: pd.DataFrame, N: int) -> pd.DataFrame:\n",
    "    employee_sort = employee.sort_values(by='salary', ascending=False).drop_duplicates(subset=['salary'])\n",
    "    employee_df = pd.DataFrame(employee_sort.iloc[N-1:N]['salary'])\n",
    "    print(employee_df)\n",
    "    print(type(employee_df))\n",
    "    employee_df.rename(columns={'salary': f'getNthHighestSalary({N})'}, inplace=True)\n",
    "    print(employee_df)\n",
    "    return employee_df\n",
    "    #result_df = pd.DataFrame(employee_df[f'getNthHighestSalary({N})'])\n",
    "    #return result_df\n",
    "\n",
    "nth_highest_salary(df7,3)"
   ]
  },
  {
   "cell_type": "code",
   "execution_count": null,
   "id": "072630ea-c983-416c-a7a4-c2af2a6e6883",
   "metadata": {},
   "outputs": [],
   "source": []
  },
  {
   "cell_type": "code",
   "execution_count": null,
   "id": "fe53794e-4f41-4d92-99a2-91b1060fb699",
   "metadata": {},
   "outputs": [],
   "source": []
  }
 ],
 "metadata": {
  "kernelspec": {
   "display_name": "Python 3 (ipykernel)",
   "language": "python",
   "name": "python3"
  },
  "language_info": {
   "codemirror_mode": {
    "name": "ipython",
    "version": 3
   },
   "file_extension": ".py",
   "mimetype": "text/x-python",
   "name": "python",
   "nbconvert_exporter": "python",
   "pygments_lexer": "ipython3",
   "version": "3.11.9"
  }
 },
 "nbformat": 4,
 "nbformat_minor": 5
}
