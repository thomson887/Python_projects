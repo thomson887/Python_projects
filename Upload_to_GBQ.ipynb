{
  "nbformat": 4,
  "nbformat_minor": 0,
  "metadata": {
    "colab": {
      "name": "Lunch and learn_marin_upload_to_GBQ.ipynb",
      "provenance": [],
      "collapsed_sections": [],
      "authorship_tag": "ABX9TyMFLQLas5BRaZJ04R7+1iNA",
      "include_colab_link": true
    },
    "kernelspec": {
      "name": "python3",
      "display_name": "Python 3"
    },
    "language_info": {
      "name": "python"
    }
  },
  "cells": [
    {
      "cell_type": "markdown",
      "metadata": {
        "id": "view-in-github",
        "colab_type": "text"
      },
      "source": [
        "<a href=\"https://colab.research.google.com/github/thomson887/thomson887/blob/main/Lunch_and_learn_marin_upload_to_GBQ.ipynb\" target=\"_parent\"><img src=\"https://colab.research.google.com/assets/colab-badge.svg\" alt=\"Open In Colab\"/></a>"
      ]
    },
    {
      "cell_type": "code",
      "execution_count": null,
      "metadata": {
        "id": "vbXXpFDhzciR"
      },
      "outputs": [],
      "source": [
        "import pandas as pd\n",
        "from datetime import date\n",
        "from pandas_gbq import schema\n"
      ]
    },
    {
      "cell_type": "code",
      "source": [
        "#remove the # from below line if you are uploading file to GBQ for first time from your system.\n",
        "#!pip install pandas_gbq"
      ],
      "metadata": {
        "id": "GatqLzyf7-DR"
      },
      "execution_count": null,
      "outputs": []
    },
    {
      "cell_type": "code",
      "source": [
        "#Uploading file from local drive to google colab.\n",
        "from google.colab import files\n",
        "uploaded = files.upload()"
      ],
      "metadata": {
        "colab": {
          "resources": {
            "http://localhost:8080/nbextensions/google.colab/files.js": {
              "data": "Ly8gQ29weXJpZ2h0IDIwMTcgR29vZ2xlIExMQwovLwovLyBMaWNlbnNlZCB1bmRlciB0aGUgQXBhY2hlIExpY2Vuc2UsIFZlcnNpb24gMi4wICh0aGUgIkxpY2Vuc2UiKTsKLy8geW91IG1heSBub3QgdXNlIHRoaXMgZmlsZSBleGNlcHQgaW4gY29tcGxpYW5jZSB3aXRoIHRoZSBMaWNlbnNlLgovLyBZb3UgbWF5IG9idGFpbiBhIGNvcHkgb2YgdGhlIExpY2Vuc2UgYXQKLy8KLy8gICAgICBodHRwOi8vd3d3LmFwYWNoZS5vcmcvbGljZW5zZXMvTElDRU5TRS0yLjAKLy8KLy8gVW5sZXNzIHJlcXVpcmVkIGJ5IGFwcGxpY2FibGUgbGF3IG9yIGFncmVlZCB0byBpbiB3cml0aW5nLCBzb2Z0d2FyZQovLyBkaXN0cmlidXRlZCB1bmRlciB0aGUgTGljZW5zZSBpcyBkaXN0cmlidXRlZCBvbiBhbiAiQVMgSVMiIEJBU0lTLAovLyBXSVRIT1VUIFdBUlJBTlRJRVMgT1IgQ09ORElUSU9OUyBPRiBBTlkgS0lORCwgZWl0aGVyIGV4cHJlc3Mgb3IgaW1wbGllZC4KLy8gU2VlIHRoZSBMaWNlbnNlIGZvciB0aGUgc3BlY2lmaWMgbGFuZ3VhZ2UgZ292ZXJuaW5nIHBlcm1pc3Npb25zIGFuZAovLyBsaW1pdGF0aW9ucyB1bmRlciB0aGUgTGljZW5zZS4KCi8qKgogKiBAZmlsZW92ZXJ2aWV3IEhlbHBlcnMgZm9yIGdvb2dsZS5jb2xhYiBQeXRob24gbW9kdWxlLgogKi8KKGZ1bmN0aW9uKHNjb3BlKSB7CmZ1bmN0aW9uIHNwYW4odGV4dCwgc3R5bGVBdHRyaWJ1dGVzID0ge30pIHsKICBjb25zdCBlbGVtZW50ID0gZG9jdW1lbnQuY3JlYXRlRWxlbWVudCgnc3BhbicpOwogIGVsZW1lbnQudGV4dENvbnRlbnQgPSB0ZXh0OwogIGZvciAoY29uc3Qga2V5IG9mIE9iamVjdC5rZXlzKHN0eWxlQXR0cmlidXRlcykpIHsKICAgIGVsZW1lbnQuc3R5bGVba2V5XSA9IHN0eWxlQXR0cmlidXRlc1trZXldOwogIH0KICByZXR1cm4gZWxlbWVudDsKfQoKLy8gTWF4IG51bWJlciBvZiBieXRlcyB3aGljaCB3aWxsIGJlIHVwbG9hZGVkIGF0IGEgdGltZS4KY29uc3QgTUFYX1BBWUxPQURfU0laRSA9IDEwMCAqIDEwMjQ7CgpmdW5jdGlvbiBfdXBsb2FkRmlsZXMoaW5wdXRJZCwgb3V0cHV0SWQpIHsKICBjb25zdCBzdGVwcyA9IHVwbG9hZEZpbGVzU3RlcChpbnB1dElkLCBvdXRwdXRJZCk7CiAgY29uc3Qgb3V0cHV0RWxlbWVudCA9IGRvY3VtZW50LmdldEVsZW1lbnRCeUlkKG91dHB1dElkKTsKICAvLyBDYWNoZSBzdGVwcyBvbiB0aGUgb3V0cHV0RWxlbWVudCB0byBtYWtlIGl0IGF2YWlsYWJsZSBmb3IgdGhlIG5leHQgY2FsbAogIC8vIHRvIHVwbG9hZEZpbGVzQ29udGludWUgZnJvbSBQeXRob24uCiAgb3V0cHV0RWxlbWVudC5zdGVwcyA9IHN0ZXBzOwoKICByZXR1cm4gX3VwbG9hZEZpbGVzQ29udGludWUob3V0cHV0SWQpOwp9CgovLyBUaGlzIGlzIHJvdWdobHkgYW4gYXN5bmMgZ2VuZXJhdG9yIChub3Qgc3VwcG9ydGVkIGluIHRoZSBicm93c2VyIHlldCksCi8vIHdoZXJlIHRoZXJlIGFyZSBtdWx0aXBsZSBhc3luY2hyb25vdXMgc3RlcHMgYW5kIHRoZSBQeXRob24gc2lkZSBpcyBnb2luZwovLyB0byBwb2xsIGZvciBjb21wbGV0aW9uIG9mIGVhY2ggc3RlcC4KLy8gVGhpcyB1c2VzIGEgUHJvbWlzZSB0byBibG9jayB0aGUgcHl0aG9uIHNpZGUgb24gY29tcGxldGlvbiBvZiBlYWNoIHN0ZXAsCi8vIHRoZW4gcGFzc2VzIHRoZSByZXN1bHQgb2YgdGhlIHByZXZpb3VzIHN0ZXAgYXMgdGhlIGlucHV0IHRvIHRoZSBuZXh0IHN0ZXAuCmZ1bmN0aW9uIF91cGxvYWRGaWxlc0NvbnRpbnVlKG91dHB1dElkKSB7CiAgY29uc3Qgb3V0cHV0RWxlbWVudCA9IGRvY3VtZW50LmdldEVsZW1lbnRCeUlkKG91dHB1dElkKTsKICBjb25zdCBzdGVwcyA9IG91dHB1dEVsZW1lbnQuc3RlcHM7CgogIGNvbnN0IG5leHQgPSBzdGVwcy5uZXh0KG91dHB1dEVsZW1lbnQubGFzdFByb21pc2VWYWx1ZSk7CiAgcmV0dXJuIFByb21pc2UucmVzb2x2ZShuZXh0LnZhbHVlLnByb21pc2UpLnRoZW4oKHZhbHVlKSA9PiB7CiAgICAvLyBDYWNoZSB0aGUgbGFzdCBwcm9taXNlIHZhbHVlIHRvIG1ha2UgaXQgYXZhaWxhYmxlIHRvIHRoZSBuZXh0CiAgICAvLyBzdGVwIG9mIHRoZSBnZW5lcmF0b3IuCiAgICBvdXRwdXRFbGVtZW50Lmxhc3RQcm9taXNlVmFsdWUgPSB2YWx1ZTsKICAgIHJldHVybiBuZXh0LnZhbHVlLnJlc3BvbnNlOwogIH0pOwp9CgovKioKICogR2VuZXJhdG9yIGZ1bmN0aW9uIHdoaWNoIGlzIGNhbGxlZCBiZXR3ZWVuIGVhY2ggYXN5bmMgc3RlcCBvZiB0aGUgdXBsb2FkCiAqIHByb2Nlc3MuCiAqIEBwYXJhbSB7c3RyaW5nfSBpbnB1dElkIEVsZW1lbnQgSUQgb2YgdGhlIGlucHV0IGZpbGUgcGlja2VyIGVsZW1lbnQuCiAqIEBwYXJhbSB7c3RyaW5nfSBvdXRwdXRJZCBFbGVtZW50IElEIG9mIHRoZSBvdXRwdXQgZGlzcGxheS4KICogQHJldHVybiB7IUl0ZXJhYmxlPCFPYmplY3Q+fSBJdGVyYWJsZSBvZiBuZXh0IHN0ZXBzLgogKi8KZnVuY3Rpb24qIHVwbG9hZEZpbGVzU3RlcChpbnB1dElkLCBvdXRwdXRJZCkgewogIGNvbnN0IGlucHV0RWxlbWVudCA9IGRvY3VtZW50LmdldEVsZW1lbnRCeUlkKGlucHV0SWQpOwogIGlucHV0RWxlbWVudC5kaXNhYmxlZCA9IGZhbHNlOwoKICBjb25zdCBvdXRwdXRFbGVtZW50ID0gZG9jdW1lbnQuZ2V0RWxlbWVudEJ5SWQob3V0cHV0SWQpOwogIG91dHB1dEVsZW1lbnQuaW5uZXJIVE1MID0gJyc7CgogIGNvbnN0IHBpY2tlZFByb21pc2UgPSBuZXcgUHJvbWlzZSgocmVzb2x2ZSkgPT4gewogICAgaW5wdXRFbGVtZW50LmFkZEV2ZW50TGlzdGVuZXIoJ2NoYW5nZScsIChlKSA9PiB7CiAgICAgIHJlc29sdmUoZS50YXJnZXQuZmlsZXMpOwogICAgfSk7CiAgfSk7CgogIGNvbnN0IGNhbmNlbCA9IGRvY3VtZW50LmNyZWF0ZUVsZW1lbnQoJ2J1dHRvbicpOwogIGlucHV0RWxlbWVudC5wYXJlbnRFbGVtZW50LmFwcGVuZENoaWxkKGNhbmNlbCk7CiAgY2FuY2VsLnRleHRDb250ZW50ID0gJ0NhbmNlbCB1cGxvYWQnOwogIGNvbnN0IGNhbmNlbFByb21pc2UgPSBuZXcgUHJvbWlzZSgocmVzb2x2ZSkgPT4gewogICAgY2FuY2VsLm9uY2xpY2sgPSAoKSA9PiB7CiAgICAgIHJlc29sdmUobnVsbCk7CiAgICB9OwogIH0pOwoKICAvLyBXYWl0IGZvciB0aGUgdXNlciB0byBwaWNrIHRoZSBmaWxlcy4KICBjb25zdCBmaWxlcyA9IHlpZWxkIHsKICAgIHByb21pc2U6IFByb21pc2UucmFjZShbcGlja2VkUHJvbWlzZSwgY2FuY2VsUHJvbWlzZV0pLAogICAgcmVzcG9uc2U6IHsKICAgICAgYWN0aW9uOiAnc3RhcnRpbmcnLAogICAgfQogIH07CgogIGNhbmNlbC5yZW1vdmUoKTsKCiAgLy8gRGlzYWJsZSB0aGUgaW5wdXQgZWxlbWVudCBzaW5jZSBmdXJ0aGVyIHBpY2tzIGFyZSBub3QgYWxsb3dlZC4KICBpbnB1dEVsZW1lbnQuZGlzYWJsZWQgPSB0cnVlOwoKICBpZiAoIWZpbGVzKSB7CiAgICByZXR1cm4gewogICAgICByZXNwb25zZTogewogICAgICAgIGFjdGlvbjogJ2NvbXBsZXRlJywKICAgICAgfQogICAgfTsKICB9CgogIGZvciAoY29uc3QgZmlsZSBvZiBmaWxlcykgewogICAgY29uc3QgbGkgPSBkb2N1bWVudC5jcmVhdGVFbGVtZW50KCdsaScpOwogICAgbGkuYXBwZW5kKHNwYW4oZmlsZS5uYW1lLCB7Zm9udFdlaWdodDogJ2JvbGQnfSkpOwogICAgbGkuYXBwZW5kKHNwYW4oCiAgICAgICAgYCgke2ZpbGUudHlwZSB8fCAnbi9hJ30pIC0gJHtmaWxlLnNpemV9IGJ5dGVzLCBgICsKICAgICAgICBgbGFzdCBtb2RpZmllZDogJHsKICAgICAgICAgICAgZmlsZS5sYXN0TW9kaWZpZWREYXRlID8gZmlsZS5sYXN0TW9kaWZpZWREYXRlLnRvTG9jYWxlRGF0ZVN0cmluZygpIDoKICAgICAgICAgICAgICAgICAgICAgICAgICAgICAgICAgICAgJ24vYSd9IC0gYCkpOwogICAgY29uc3QgcGVyY2VudCA9IHNwYW4oJzAlIGRvbmUnKTsKICAgIGxpLmFwcGVuZENoaWxkKHBlcmNlbnQpOwoKICAgIG91dHB1dEVsZW1lbnQuYXBwZW5kQ2hpbGQobGkpOwoKICAgIGNvbnN0IGZpbGVEYXRhUHJvbWlzZSA9IG5ldyBQcm9taXNlKChyZXNvbHZlKSA9PiB7CiAgICAgIGNvbnN0IHJlYWRlciA9IG5ldyBGaWxlUmVhZGVyKCk7CiAgICAgIHJlYWRlci5vbmxvYWQgPSAoZSkgPT4gewogICAgICAgIHJlc29sdmUoZS50YXJnZXQucmVzdWx0KTsKICAgICAgfTsKICAgICAgcmVhZGVyLnJlYWRBc0FycmF5QnVmZmVyKGZpbGUpOwogICAgfSk7CiAgICAvLyBXYWl0IGZvciB0aGUgZGF0YSB0byBiZSByZWFkeS4KICAgIGxldCBmaWxlRGF0YSA9IHlpZWxkIHsKICAgICAgcHJvbWlzZTogZmlsZURhdGFQcm9taXNlLAogICAgICByZXNwb25zZTogewogICAgICAgIGFjdGlvbjogJ2NvbnRpbnVlJywKICAgICAgfQogICAgfTsKCiAgICAvLyBVc2UgYSBjaHVua2VkIHNlbmRpbmcgdG8gYXZvaWQgbWVzc2FnZSBzaXplIGxpbWl0cy4gU2VlIGIvNjIxMTU2NjAuCiAgICBsZXQgcG9zaXRpb24gPSAwOwogICAgZG8gewogICAgICBjb25zdCBsZW5ndGggPSBNYXRoLm1pbihmaWxlRGF0YS5ieXRlTGVuZ3RoIC0gcG9zaXRpb24sIE1BWF9QQVlMT0FEX1NJWkUpOwogICAgICBjb25zdCBjaHVuayA9IG5ldyBVaW50OEFycmF5KGZpbGVEYXRhLCBwb3NpdGlvbiwgbGVuZ3RoKTsKICAgICAgcG9zaXRpb24gKz0gbGVuZ3RoOwoKICAgICAgY29uc3QgYmFzZTY0ID0gYnRvYShTdHJpbmcuZnJvbUNoYXJDb2RlLmFwcGx5KG51bGwsIGNodW5rKSk7CiAgICAgIHlpZWxkIHsKICAgICAgICByZXNwb25zZTogewogICAgICAgICAgYWN0aW9uOiAnYXBwZW5kJywKICAgICAgICAgIGZpbGU6IGZpbGUubmFtZSwKICAgICAgICAgIGRhdGE6IGJhc2U2NCwKICAgICAgICB9LAogICAgICB9OwoKICAgICAgbGV0IHBlcmNlbnREb25lID0gZmlsZURhdGEuYnl0ZUxlbmd0aCA9PT0gMCA/CiAgICAgICAgICAxMDAgOgogICAgICAgICAgTWF0aC5yb3VuZCgocG9zaXRpb24gLyBmaWxlRGF0YS5ieXRlTGVuZ3RoKSAqIDEwMCk7CiAgICAgIHBlcmNlbnQudGV4dENvbnRlbnQgPSBgJHtwZXJjZW50RG9uZX0lIGRvbmVgOwoKICAgIH0gd2hpbGUgKHBvc2l0aW9uIDwgZmlsZURhdGEuYnl0ZUxlbmd0aCk7CiAgfQoKICAvLyBBbGwgZG9uZS4KICB5aWVsZCB7CiAgICByZXNwb25zZTogewogICAgICBhY3Rpb246ICdjb21wbGV0ZScsCiAgICB9CiAgfTsKfQoKc2NvcGUuZ29vZ2xlID0gc2NvcGUuZ29vZ2xlIHx8IHt9OwpzY29wZS5nb29nbGUuY29sYWIgPSBzY29wZS5nb29nbGUuY29sYWIgfHwge307CnNjb3BlLmdvb2dsZS5jb2xhYi5fZmlsZXMgPSB7CiAgX3VwbG9hZEZpbGVzLAogIF91cGxvYWRGaWxlc0NvbnRpbnVlLAp9Owp9KShzZWxmKTsK",
              "ok": true,
              "headers": [
                [
                  "content-type",
                  "application/javascript"
                ]
              ],
              "status": 200,
              "status_text": ""
            }
          },
          "base_uri": "https://localhost:8080/",
          "height": 73
        },
        "id": "IRbMYcXazjc8",
        "outputId": "192d4813-78c8-4cfc-83a1-8ce9f13ec540"
      },
      "execution_count": null,
      "outputs": [
        {
          "output_type": "display_data",
          "data": {
            "text/html": [
              "\n",
              "     <input type=\"file\" id=\"files-8773aaac-36ff-4376-8114-c13283cffcc2\" name=\"files[]\" multiple disabled\n",
              "        style=\"border:none\" />\n",
              "     <output id=\"result-8773aaac-36ff-4376-8114-c13283cffcc2\">\n",
              "      Upload widget is only available when the cell has been executed in the\n",
              "      current browser session. Please rerun this cell to enable.\n",
              "      </output>\n",
              "      <script src=\"/nbextensions/google.colab/files.js\"></script> "
            ],
            "text/plain": [
              "<IPython.core.display.HTML object>"
            ]
          },
          "metadata": {}
        },
        {
          "output_type": "stream",
          "name": "stdout",
          "text": [
            "Saving 136948.csv to 136948 (1).csv\n"
          ]
        }
      ]
    },
    {
      "cell_type": "code",
      "source": [
        "import io\n",
        "df = pd.read_csv(io.BytesIO(uploaded['136948.csv']))"
      ],
      "metadata": {
        "id": "hVHTMF8K17i9"
      },
      "execution_count": null,
      "outputs": []
    },
    {
      "cell_type": "code",
      "source": [
        "snap = pd.Timestamp(date.today())"
      ],
      "metadata": {
        "id": "NTvnQ0u9zjaP"
      },
      "execution_count": null,
      "outputs": []
    },
    {
      "cell_type": "code",
      "source": [
        "df[\"Snapshot_Week\"] = snap"
      ],
      "metadata": {
        "id": "XO-T6QoczjXl"
      },
      "execution_count": null,
      "outputs": []
    },
    {
      "cell_type": "code",
      "source": [
        "df.dtypes"
      ],
      "metadata": {
        "colab": {
          "base_uri": "https://localhost:8080/"
        },
        "id": "ABraGvwszjVR",
        "outputId": "b7df454c-3198-437a-84a4-9e902491ada5"
      },
      "execution_count": null,
      "outputs": [
        {
          "output_type": "execute_result",
          "data": {
            "text/plain": [
              "business_date                    object\n",
              "sku                               int64\n",
              "Sales_Channel                    object\n",
              "Fulfillment_Channel              object\n",
              "wh_start_inv                      int64\n",
              "                              ...      \n",
              "IS_TOP500                        object\n",
              "IS_TOP500_NETWORK                object\n",
              "LIFECYCLE                        object\n",
              "DAYS_SINCE_FIRST_SALE             int64\n",
              "Snapshot_Week            datetime64[ns]\n",
              "Length: 64, dtype: object"
            ]
          },
          "metadata": {},
          "execution_count": 38
        }
      ]
    },
    {
      "cell_type": "code",
      "source": [
        "#df[\"Business_date\"] = pd.to_datetime(df[\"business_date\"])"
      ],
      "metadata": {
        "id": "Yc8ieb7izjSr"
      },
      "execution_count": null,
      "outputs": []
    },
    {
      "cell_type": "code",
      "source": [
        "schema.generate_bq_schema(df)"
      ],
      "metadata": {
        "colab": {
          "base_uri": "https://localhost:8080/"
        },
        "id": "f426WG8dzjP_",
        "outputId": "8290e1ec-c2bc-48aa-e182-ebeb6d07bf63"
      },
      "execution_count": null,
      "outputs": [
        {
          "output_type": "execute_result",
          "data": {
            "text/plain": [
              "{'fields': [{'name': 'business_date', 'type': 'STRING'},\n",
              "  {'name': 'sku', 'type': 'INTEGER'},\n",
              "  {'name': 'Sales_Channel', 'type': 'STRING'},\n",
              "  {'name': 'Fulfillment_Channel', 'type': 'STRING'},\n",
              "  {'name': 'wh_start_inv', 'type': 'INTEGER'},\n",
              "  {'name': 'wh_end_inv', 'type': 'INTEGER'},\n",
              "  {'name': 'Inv_flag_wh', 'type': 'STRING'},\n",
              "  {'name': 'store_start_inv', 'type': 'INTEGER'},\n",
              "  {'name': 'store_end_inv', 'type': 'INTEGER'},\n",
              "  {'name': 'Inv_flag_store', 'type': 'STRING'},\n",
              "  {'name': 'No_of_days_from_Release_Date', 'type': 'INTEGER'},\n",
              "  {'name': 'Item_Desc', 'type': 'STRING'},\n",
              "  {'name': 'SKU_Reused_Flag', 'type': 'STRING'},\n",
              "  {'name': 'Inventory_Status_Description', 'type': 'STRING'},\n",
              "  {'name': 'shrinkable_flag', 'type': 'INTEGER'},\n",
              "  {'name': 'item_type', 'type': 'STRING'},\n",
              "  {'name': 'SGM_Category', 'type': 'STRING'},\n",
              "  {'name': 'SGM_Category_Group', 'type': 'STRING'},\n",
              "  {'name': 'Level_1', 'type': 'STRING'},\n",
              "  {'name': 'Level_2', 'type': 'STRING'},\n",
              "  {'name': 'Level_3', 'type': 'STRING'},\n",
              "  {'name': 'Level_4', 'type': 'STRING'},\n",
              "  {'name': 'Level_5', 'type': 'STRING'},\n",
              "  {'name': 'street_date', 'type': 'STRING'},\n",
              "  {'name': 'release_Date', 'type': 'STRING'},\n",
              "  {'name': 'Replen_Status', 'type': 'STRING'},\n",
              "  {'name': 'Replen_Status_Detailed', 'type': 'STRING'},\n",
              "  {'name': 'SKU_Cohort', 'type': 'STRING'},\n",
              "  {'name': 'velocity_code', 'type': 'STRING'},\n",
              "  {'name': 'type', 'type': 'STRING'},\n",
              "  {'name': 'Vendor_Name', 'type': 'STRING'},\n",
              "  {'name': 'Vendor_Identifier', 'type': 'INTEGER'},\n",
              "  {'name': 'brand_name', 'type': 'STRING'},\n",
              "  {'name': 'Calendar_Week_Begin_Date', 'type': 'STRING'},\n",
              "  {'name': 'Calendar_Week_End_Date', 'type': 'STRING'},\n",
              "  {'name': 'Fiscal_Year_Week_Begin_Date', 'type': 'STRING'},\n",
              "  {'name': 'Fiscal_Year_Week_End_Date', 'type': 'STRING'},\n",
              "  {'name': 'Fiscal_Year_number', 'type': 'INTEGER'},\n",
              "  {'name': 'Fiscal_Year_Quarter_Name', 'type': 'STRING'},\n",
              "  {'name': 'Fiscal_Year_Month_Name', 'type': 'STRING'},\n",
              "  {'name': 'Fiscal_Year_Month_Number', 'type': 'INTEGER'},\n",
              "  {'name': 'Fiscal_Year_Week_Name', 'type': 'STRING'},\n",
              "  {'name': 'Fiscal_Year_Week', 'type': 'INTEGER'},\n",
              "  {'name': 'Fiscal_Year_Week_Number', 'type': 'INTEGER'},\n",
              "  {'name': 'Fiscal_Year_Day_in_Year', 'type': 'INTEGER'},\n",
              "  {'name': 'Gross_Qty', 'type': 'FLOAT'},\n",
              "  {'name': 'Gross_Amt', 'type': 'FLOAT'},\n",
              "  {'name': 'ASP', 'type': 'FLOAT'},\n",
              "  {'name': 'first_Store_sale_Date', 'type': 'STRING'},\n",
              "  {'name': 'first_Ecomm_sale_Date', 'type': 'STRING'},\n",
              "  {'name': 'No_of_days_first_Store_sale_Date', 'type': 'INTEGER'},\n",
              "  {'name': 'No_of_days_first_Ecomm_sale_Date', 'type': 'INTEGER'},\n",
              "  {'name': 'first_Wh_Inv_Date', 'type': 'STRING'},\n",
              "  {'name': 'first_Store_Inv_Date', 'type': 'STRING'},\n",
              "  {'name': 'No_of_days_first_Wh_Inv_Date', 'type': 'INTEGER'},\n",
              "  {'name': 'No_of_days_first_Store_Inv_Date', 'type': 'INTEGER'},\n",
              "  {'name': 'is_promtion', 'type': 'STRING'},\n",
              "  {'name': 'Extract_Date_Time', 'type': 'STRING'},\n",
              "  {'name': 'IS_GEN9', 'type': 'STRING'},\n",
              "  {'name': 'IS_TOP500', 'type': 'STRING'},\n",
              "  {'name': 'IS_TOP500_NETWORK', 'type': 'STRING'},\n",
              "  {'name': 'LIFECYCLE', 'type': 'STRING'},\n",
              "  {'name': 'DAYS_SINCE_FIRST_SALE', 'type': 'INTEGER'},\n",
              "  {'name': 'Snapshot_Week', 'type': 'TIMESTAMP'}]}"
            ]
          },
          "metadata": {},
          "execution_count": 39
        }
      ]
    },
    {
      "cell_type": "markdown",
      "source": [
        ""
      ],
      "metadata": {
        "id": "EExRmpup08LM"
      }
    },
    {
      "cell_type": "code",
      "source": [
        "#copy the square bracket to square bracket and put here\n",
        "table_schema = [{'name': 'business_date', 'type': 'STRING'},\n",
        "  {'name': 'sku', 'type': 'INTEGER'},\n",
        "  {'name': 'Sales_Channel', 'type': 'STRING'},\n",
        "  {'name': 'Fulfillment_Channel', 'type': 'STRING'},\n",
        "  {'name': 'wh_start_inv', 'type': 'INTEGER'},\n",
        "  {'name': 'wh_end_inv', 'type': 'INTEGER'},\n",
        "  {'name': 'Inv_flag_wh', 'type': 'STRING'},\n",
        "  {'name': 'store_start_inv', 'type': 'INTEGER'},\n",
        "  {'name': 'store_end_inv', 'type': 'INTEGER'},\n",
        "  {'name': 'Inv_flag_store', 'type': 'STRING'},\n",
        "  {'name': 'No_of_days_from_Release_Date', 'type': 'INTEGER'},\n",
        "  {'name': 'Item_Desc', 'type': 'STRING'},\n",
        "  {'name': 'SKU_Reused_Flag', 'type': 'STRING'},\n",
        "  {'name': 'Inventory_Status_Description', 'type': 'STRING'},\n",
        "  {'name': 'shrinkable_flag', 'type': 'INTEGER'},\n",
        "  {'name': 'item_type', 'type': 'STRING'},\n",
        "  {'name': 'SGM_Category', 'type': 'STRING'},\n",
        "  {'name': 'SGM_Category_Group', 'type': 'STRING'},\n",
        "  {'name': 'Level_1', 'type': 'STRING'},\n",
        "  {'name': 'Level_2', 'type': 'STRING'},\n",
        "  {'name': 'Level_3', 'type': 'STRING'},\n",
        "  {'name': 'Level_4', 'type': 'STRING'},\n",
        "  {'name': 'Level_5', 'type': 'STRING'},\n",
        "  {'name': 'street_date', 'type': 'STRING'},\n",
        "  {'name': 'release_Date', 'type': 'STRING'},\n",
        "  {'name': 'Replen_Status', 'type': 'STRING'},\n",
        "  {'name': 'Replen_Status_Detailed', 'type': 'STRING'},\n",
        "  {'name': 'SKU_Cohort', 'type': 'STRING'},\n",
        "  {'name': 'velocity_code', 'type': 'STRING'},\n",
        "  {'name': 'type', 'type': 'STRING'},\n",
        "  {'name': 'Vendor_Name', 'type': 'STRING'},\n",
        "  {'name': 'Vendor_Identifier', 'type': 'INTEGER'},\n",
        "  {'name': 'brand_name', 'type': 'STRING'},\n",
        "  {'name': 'Calendar_Week_Begin_Date', 'type': 'STRING'},\n",
        "  {'name': 'Calendar_Week_End_Date', 'type': 'STRING'},\n",
        "  {'name': 'Fiscal_Year_Week_Begin_Date', 'type': 'STRING'},\n",
        "  {'name': 'Fiscal_Year_Week_End_Date', 'type': 'STRING'},\n",
        "  {'name': 'Fiscal_Year_number', 'type': 'INTEGER'},\n",
        "  {'name': 'Fiscal_Year_Quarter_Name', 'type': 'STRING'},\n",
        "  {'name': 'Fiscal_Year_Month_Name', 'type': 'STRING'},\n",
        "  {'name': 'Fiscal_Year_Month_Number', 'type': 'INTEGER'},\n",
        "  {'name': 'Fiscal_Year_Week_Name', 'type': 'STRING'},\n",
        "  {'name': 'Fiscal_Year_Week', 'type': 'INTEGER'},\n",
        "  {'name': 'Fiscal_Year_Week_Number', 'type': 'INTEGER'},\n",
        "  {'name': 'Fiscal_Year_Day_in_Year', 'type': 'INTEGER'},\n",
        "  {'name': 'Gross_Qty', 'type': 'FLOAT'},\n",
        "  {'name': 'Gross_Amt', 'type': 'FLOAT'},\n",
        "  {'name': 'ASP', 'type': 'FLOAT'},\n",
        "  {'name': 'first_Store_sale_Date', 'type': 'STRING'},\n",
        "  {'name': 'first_Ecomm_sale_Date', 'type': 'STRING'},\n",
        "  {'name': 'No_of_days_first_Store_sale_Date', 'type': 'INTEGER'},\n",
        "  {'name': 'No_of_days_first_Ecomm_sale_Date', 'type': 'INTEGER'},\n",
        "  {'name': 'first_Wh_Inv_Date', 'type': 'STRING'},\n",
        "  {'name': 'first_Store_Inv_Date', 'type': 'STRING'},\n",
        "  {'name': 'No_of_days_first_Wh_Inv_Date', 'type': 'INTEGER'},\n",
        "  {'name': 'No_of_days_first_Store_Inv_Date', 'type': 'INTEGER'},\n",
        "  {'name': 'is_promtion', 'type': 'STRING'},\n",
        "  {'name': 'Extract_Date_Time', 'type': 'STRING'},\n",
        "  {'name': 'IS_GEN9', 'type': 'STRING'},\n",
        "  {'name': 'IS_TOP500', 'type': 'STRING'},\n",
        "  {'name': 'IS_TOP500_NETWORK', 'type': 'STRING'},\n",
        "  {'name': 'LIFECYCLE', 'type': 'STRING'},\n",
        "  {'name': 'DAYS_SINCE_FIRST_SALE', 'type': 'INTEGER'},\n",
        "  {'name': 'Snapshot_Week', 'type': 'TIMESTAMP'}]"
      ],
      "metadata": {
        "id": "txqREeBg0zsx"
      },
      "execution_count": null,
      "outputs": []
    },
    {
      "cell_type": "code",
      "source": [
        "df.to_gbq(destination_table = 'Justin_Sandbox.python_test_table',\n",
        "          project_id = 'storeops-prod',\n",
        "          if_exists = 'replace',\n",
        "          table_schema = table_schema)"
      ],
      "metadata": {
        "colab": {
          "base_uri": "https://localhost:8080/"
        },
        "id": "PSLUj7580zqd",
        "outputId": "8b5eed13-f972-4765-b799-f0192ca67edf"
      },
      "execution_count": null,
      "outputs": [
        {
          "output_type": "stream",
          "name": "stderr",
          "text": [
            "1it [00:03,  3.40s/it]\n"
          ]
        }
      ]
    },
    {
      "cell_type": "code",
      "source": [
        ""
      ],
      "metadata": {
        "id": "zx-tguTa0zoE"
      },
      "execution_count": null,
      "outputs": []
    },
    {
      "cell_type": "code",
      "source": [
        ""
      ],
      "metadata": {
        "id": "5Bci3rTP0zlv"
      },
      "execution_count": null,
      "outputs": []
    },
    {
      "cell_type": "code",
      "source": [
        ""
      ],
      "metadata": {
        "id": "gWhS9sSE0zjN"
      },
      "execution_count": null,
      "outputs": []
    },
    {
      "cell_type": "code",
      "source": [
        ""
      ],
      "metadata": {
        "id": "7npLWeR30zgt"
      },
      "execution_count": null,
      "outputs": []
    },
    {
      "cell_type": "code",
      "source": [
        ""
      ],
      "metadata": {
        "id": "HwGypmg70yuV"
      },
      "execution_count": null,
      "outputs": []
    }
  ]
}
